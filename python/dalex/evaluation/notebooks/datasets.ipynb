{
 "cells": [
  {
   "cell_type": "code",
   "execution_count": 1,
   "id": "6c35d3fb",
   "metadata": {},
   "outputs": [],
   "source": [
    "import pandas as pd\n",
    "from sklearn.model_selection import train_test_split\n",
    "from sklearn.preprocessing import StandardScaler"
   ]
  },
  {
   "cell_type": "code",
   "execution_count": 2,
   "id": "d40cffce",
   "metadata": {},
   "outputs": [],
   "source": [
    "house_price_df = pd.read_csv(\"/home/edsuch21/Documents/studia/UW/XAI/DALEX/python/dalex/evaluation/data/input/kc_house_data.csv\").dropna()\n",
    "death_rate_df = pd.read_csv(\"/home/edsuch21/Documents/studia/UW/XAI/DALEX/python/dalex/evaluation/data/input/cancer_reg_org.csv\", encoding='latin-1').dropna()"
   ]
  },
  {
   "cell_type": "code",
   "execution_count": 3,
   "id": "47dc7430",
   "metadata": {},
   "outputs": [
    {
     "name": "stdout",
     "output_type": "stream",
     "text": [
      "<class 'pandas.core.frame.DataFrame'>\n",
      "Int64Index: 591 entries, 1 to 3046\n",
      "Data columns (total 34 columns):\n",
      " #   Column                   Non-Null Count  Dtype  \n",
      "---  ------                   --------------  -----  \n",
      " 0   avgAnnCount              591 non-null    float64\n",
      " 1   avgDeathsPerYear         591 non-null    int64  \n",
      " 2   TARGET_deathRate         591 non-null    float64\n",
      " 3   incidenceRate            591 non-null    float64\n",
      " 4   medIncome                591 non-null    int64  \n",
      " 5   popEst2015               591 non-null    int64  \n",
      " 6   povertyPercent           591 non-null    float64\n",
      " 7   studyPerCap              591 non-null    float64\n",
      " 8   binnedInc                591 non-null    object \n",
      " 9   MedianAge                591 non-null    float64\n",
      " 10  MedianAgeMale            591 non-null    float64\n",
      " 11  MedianAgeFemale          591 non-null    float64\n",
      " 12  Geography                591 non-null    object \n",
      " 13  AvgHouseholdSize         591 non-null    float64\n",
      " 14  PercentMarried           591 non-null    float64\n",
      " 15  PctNoHS18_24             591 non-null    float64\n",
      " 16  PctHS18_24               591 non-null    float64\n",
      " 17  PctSomeCol18_24          591 non-null    float64\n",
      " 18  PctBachDeg18_24          591 non-null    float64\n",
      " 19  PctHS25_Over             591 non-null    float64\n",
      " 20  PctBachDeg25_Over        591 non-null    float64\n",
      " 21  PctEmployed16_Over       591 non-null    float64\n",
      " 22  PctUnemployed16_Over     591 non-null    float64\n",
      " 23  PctPrivateCoverage       591 non-null    float64\n",
      " 24  PctPrivateCoverageAlone  591 non-null    float64\n",
      " 25  PctEmpPrivCoverage       591 non-null    float64\n",
      " 26  PctPublicCoverage        591 non-null    float64\n",
      " 27  PctPublicCoverageAlone   591 non-null    float64\n",
      " 28  PctWhite                 591 non-null    float64\n",
      " 29  PctBlack                 591 non-null    float64\n",
      " 30  PctAsian                 591 non-null    float64\n",
      " 31  PctOtherRace             591 non-null    float64\n",
      " 32  PctMarriedHouseholds     591 non-null    float64\n",
      " 33  BirthRate                591 non-null    float64\n",
      "dtypes: float64(29), int64(3), object(2)\n",
      "memory usage: 161.6+ KB\n"
     ]
    }
   ],
   "source": [
    "death_rate_df.info()"
   ]
  },
  {
   "cell_type": "code",
   "execution_count": 4,
   "id": "d849fad4",
   "metadata": {},
   "outputs": [],
   "source": [
    "def get_test_train(dataset_name: str, standarize: bool = False, random_state: int = 446519, \\\n",
    "                   train_size: int = 200) -> (pd.DataFrame, pd.DataFrame, pd.Series, pd.Series):\n",
    "    if dataset_name == 'house_price':\n",
    "        X = house_price_df[[\"bedrooms\", \"bathrooms\", \"sqft_living\", \"sqft_lot\", \"floors\", \\\n",
    "                            \"grade\", \"sqft_above\", \"sqft_basement\", \"yr_built\"]]\n",
    "        y = house_price_df['price']\n",
    "        \n",
    "    elif dataset_name == 'death_rate':\n",
    "        X = death_rate_df.drop(columns=['TARGET_deathRate', 'Geography', 'binnedInc'])\n",
    "        y = death_rate_df['TARGET_deathRate']\n",
    "        \n",
    "    else:\n",
    "        raise Exception(f\"Given dataset name {dataset_name} is unavailable. \\\n",
    "            Available options are 'svm' and 'xgboost'.\")\n",
    "    \n",
    "    X_train, X_test, y_train, y_test = train_test_split(X, y, train_size=train_size, \\\n",
    "                                                            random_state=random_state, shuffle=True)        \n",
    "    if standarize:\n",
    "        X_train = (X_train - X_train.mean()/X_train.std())\n",
    "        X_test = (X_test - X_train.mean()/X_train.std())\n",
    "            \n",
    "    return X_train, X_test, y_train, y_test"
   ]
  },
  {
   "cell_type": "code",
   "execution_count": null,
   "id": "be7e9487",
   "metadata": {},
   "outputs": [],
   "source": []
  }
 ],
 "metadata": {
  "kernelspec": {
   "display_name": "ikernel-py",
   "language": "python",
   "name": "python3"
  },
  "language_info": {
   "codemirror_mode": {
    "name": "ipython",
    "version": 3
   },
   "file_extension": ".py",
   "mimetype": "text/x-python",
   "name": "python",
   "nbconvert_exporter": "python",
   "pygments_lexer": "ipython3",
   "version": "3.10.6"
  },
  "vscode": {
   "interpreter": {
    "hash": "a9b7f736565c6cd40b8d49336405822da11305b97b415f12dc2975a61ae6e90d"
   }
  }
 },
 "nbformat": 4,
 "nbformat_minor": 5
}
