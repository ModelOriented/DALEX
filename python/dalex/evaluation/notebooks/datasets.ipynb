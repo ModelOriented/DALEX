{
 "cells": [
  {
   "cell_type": "code",
   "execution_count": 1,
   "id": "6c35d3fb",
   "metadata": {},
   "outputs": [],
   "source": [
    "import pandas as pd\n",
    "from sklearn.model_selection import train_test_split\n",
    "from sklearn.preprocessing import StandardScaler"
   ]
  },
  {
   "cell_type": "code",
   "execution_count": 2,
   "id": "d40cffce",
   "metadata": {},
   "outputs": [],
   "source": [
    "house_price_df = pd.read_csv(\"../data/kc_house_data.csv\").dropna()\n",
    "death_rate_df = pd.read_csv(\"../data/cancer_reg.csv\", encoding='latin-1').dropna()"
   ]
  },
  {
   "cell_type": "code",
   "execution_count": 3,
   "id": "d849fad4",
   "metadata": {},
   "outputs": [],
   "source": [
    "def get_test_train(dataset_name: str, standarize: bool = False, random_state: int = 446519, \\\n",
    "                   train_size: int = 200) -> (pd.DataFrame, pd.DataFrame, pd.Series, pd.Series):\n",
    "    if dataset_name == 'house_price':\n",
    "        X = house_price_df[[\"bedrooms\", \"bathrooms\", \"sqft_living\", \"sqft_lot\", \"floors\", \\\n",
    "                            \"grade\", \"sqft_above\", \"sqft_basement\", \"yr_built\"]]\n",
    "        y = house_price_df['price']\n",
    "        \n",
    "    elif dataset_name == 'death_rate':\n",
    "        X = death_rate_df.drop(columns=['TARGET_deathRate', 'Geography', 'binnedInc'])\n",
    "        y = death_rate_df['TARGET_deathRate']\n",
    "        \n",
    "    else:\n",
    "        raise Exception(f\"Given dataset name {dataset_name} is unavailable. \\\n",
    "            Available options are 'svm' and 'xgboost'.\")\n",
    "    \n",
    "    X_train, X_test, y_train, y_test = train_test_split(X, y, train_size=train_size, \\\n",
    "                                                            random_state=random_state, shuffle=True)        \n",
    "    if standarize:\n",
    "        X_train = (X_train - X_train.mean()/X_train.std())\n",
    "        X_test = (X_test - X_train.mean()/X_train.std())\n",
    "            \n",
    "    return X_train, X_test, y_train, y_test"
   ]
  },
  {
   "cell_type": "code",
   "execution_count": null,
   "id": "be7e9487",
   "metadata": {},
   "outputs": [],
   "source": []
  }
 ],
 "metadata": {
  "kernelspec": {
   "display_name": "myDalex",
   "language": "python",
   "name": "mydalex"
  },
  "language_info": {
   "codemirror_mode": {
    "name": "ipython",
    "version": 3
   },
   "file_extension": ".py",
   "mimetype": "text/x-python",
   "name": "python",
   "nbconvert_exporter": "python",
   "pygments_lexer": "ipython3",
   "version": "3.7.16"
  }
 },
 "nbformat": 4,
 "nbformat_minor": 5
}
