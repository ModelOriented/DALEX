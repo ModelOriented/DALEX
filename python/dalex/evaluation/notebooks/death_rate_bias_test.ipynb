{
 "cells": [
  {
   "cell_type": "code",
   "execution_count": 1,
   "id": "b9b52304",
   "metadata": {},
   "outputs": [],
   "source": [
    "%run models.ipynb\n",
    "%run datasets.ipynb"
   ]
  },
  {
   "cell_type": "code",
   "execution_count": 2,
   "id": "2c8c87f0",
   "metadata": {},
   "outputs": [],
   "source": [
    "import dalex as dx\n",
    "import numpy as np\n",
    "import shap"
   ]
  },
  {
   "cell_type": "code",
   "execution_count": 3,
   "id": "3298f34e",
   "metadata": {},
   "outputs": [],
   "source": [
    "svm = create_model('svm', kernel='rbf')\n",
    "xgboost = create_model('xgboost')"
   ]
  },
  {
   "cell_type": "markdown",
   "id": "8fc9b6f6",
   "metadata": {},
   "source": [
    "## Szacowanie ceny mieszkań"
   ]
  },
  {
   "cell_type": "code",
   "execution_count": 4,
   "id": "7a0dd5f5",
   "metadata": {},
   "outputs": [],
   "source": [
    "X_train, X_test, y_train, y_test = get_test_train('death_rate', train_size=300)"
   ]
  },
  {
   "cell_type": "code",
   "execution_count": 5,
   "id": "9326f4ad",
   "metadata": {},
   "outputs": [
    {
     "name": "stdout",
     "output_type": "stream",
     "text": [
      "<class 'pandas.core.frame.DataFrame'>\n",
      "Int64Index: 300 entries, 245 to 1388\n",
      "Data columns (total 31 columns):\n",
      " #   Column                   Non-Null Count  Dtype  \n",
      "---  ------                   --------------  -----  \n",
      " 0   avgAnnCount              300 non-null    float64\n",
      " 1   avgDeathsPerYear         300 non-null    int64  \n",
      " 2   incidenceRate            300 non-null    float64\n",
      " 3   medIncome                300 non-null    int64  \n",
      " 4   popEst2015               300 non-null    int64  \n",
      " 5   povertyPercent           300 non-null    float64\n",
      " 6   studyPerCap              300 non-null    float64\n",
      " 7   MedianAge                300 non-null    float64\n",
      " 8   MedianAgeMale            300 non-null    float64\n",
      " 9   MedianAgeFemale          300 non-null    float64\n",
      " 10  AvgHouseholdSize         300 non-null    float64\n",
      " 11  PercentMarried           300 non-null    float64\n",
      " 12  PctNoHS18_24             300 non-null    float64\n",
      " 13  PctHS18_24               300 non-null    float64\n",
      " 14  PctSomeCol18_24          300 non-null    float64\n",
      " 15  PctBachDeg18_24          300 non-null    float64\n",
      " 16  PctHS25_Over             300 non-null    float64\n",
      " 17  PctBachDeg25_Over        300 non-null    float64\n",
      " 18  PctEmployed16_Over       300 non-null    float64\n",
      " 19  PctUnemployed16_Over     300 non-null    float64\n",
      " 20  PctPrivateCoverage       300 non-null    float64\n",
      " 21  PctPrivateCoverageAlone  300 non-null    float64\n",
      " 22  PctEmpPrivCoverage       300 non-null    float64\n",
      " 23  PctPublicCoverage        300 non-null    float64\n",
      " 24  PctPublicCoverageAlone   300 non-null    float64\n",
      " 25  PctWhite                 300 non-null    float64\n",
      " 26  PctBlack                 300 non-null    float64\n",
      " 27  PctAsian                 300 non-null    float64\n",
      " 28  PctOtherRace             300 non-null    float64\n",
      " 29  PctMarriedHouseholds     300 non-null    float64\n",
      " 30  BirthRate                300 non-null    float64\n",
      "dtypes: float64(28), int64(3)\n",
      "memory usage: 75.0 KB\n"
     ]
    }
   ],
   "source": [
    "X_train"
   ]
  },
  {
   "cell_type": "code",
   "execution_count": 25,
   "id": "f75801bf",
   "metadata": {},
   "outputs": [],
   "source": [
    "model_predicting_method = lambda m, d: m.predict(d)"
   ]
  },
  {
   "cell_type": "code",
   "execution_count": 26,
   "id": "9b4a9bb2",
   "metadata": {},
   "outputs": [
    {
     "data": {
      "text/plain": [
       "0.002908186734516649"
      ]
     },
     "execution_count": 26,
     "metadata": {},
     "output_type": "execute_result"
    }
   ],
   "source": [
    "svm.fit(X_train, y_train)\n",
    "svm.score(X_test, y_test)"
   ]
  },
  {
   "cell_type": "code",
   "execution_count": 7,
   "id": "a19ee27f",
   "metadata": {},
   "outputs": [
    {
     "data": {
      "text/plain": [
       "0.3198842059896697"
      ]
     },
     "execution_count": 7,
     "metadata": {},
     "output_type": "execute_result"
    }
   ],
   "source": [
    "xgboost.fit(X_train, y_train)\n",
    "xgboost.score(X_test, y_test)"
   ]
  },
  {
   "cell_type": "code",
   "execution_count": 26,
   "id": "4d07b592",
   "metadata": {},
   "outputs": [
    {
     "name": "stdout",
     "output_type": "stream",
     "text": [
      "Preparation of a new explainer is initiated\n",
      "\n",
      "  -> data              : 300 rows 9 cols\n",
      "  -> target variable   : Parameter 'y' was a pandas.Series. Converted to a numpy.ndarray.\n",
      "  -> target variable   : 300 values\n",
      "  -> model_class       : sklearn.svm._classes.SVR (default)\n",
      "  -> label             : SVM_house_price\n",
      "  -> predict function  : <function <lambda> at 0x7ffb18c92440> will be used\n",
      "  -> predict function  : Accepts pandas.DataFrame and numpy.ndarray.\n",
      "  -> predicted values  : min = 2.39e+05, mean = 4.67e+05, max = 1.05e+06\n",
      "  -> model type        : regression will be used (default)\n",
      "  -> residual function : difference between y and yhat (default)\n",
      "  -> residuals         : min = -4.26e+05, mean = 5.45e+04, max = 1.78e+06\n",
      "  -> model_info        : package sklearn\n",
      "\n",
      "A new explainer has been created!\n",
      "Preparation of a new explainer is initiated\n",
      "\n",
      "  -> data              : 300 rows 9 cols\n",
      "  -> target variable   : Parameter 'y' was a pandas.Series. Converted to a numpy.ndarray.\n",
      "  -> target variable   : 300 values\n",
      "  -> model_class       : sklearn.ensemble._gb.GradientBoostingRegressor (default)\n",
      "  -> label             : XGBoost_house_price\n",
      "  -> predict function  : <function <lambda> at 0x7ffb18c92440> will be used\n",
      "  -> predict function  : Accepts pandas.DataFrame and numpy.ndarray.\n",
      "  -> predicted values  : min = 2.01e+05, mean = 5.21e+05, max = 2.42e+06\n",
      "  -> model type        : regression will be used (default)\n",
      "  -> residual function : difference between y and yhat (default)\n",
      "  -> residuals         : min = -2.43e+05, mean = 7.37e-12, max = 4e+05\n",
      "  -> model_info        : package sklearn\n",
      "\n",
      "A new explainer has been created!\n"
     ]
    },
    {
     "name": "stderr",
     "output_type": "stream",
     "text": [
      "X does not have valid feature names, but SVR was fitted with feature names\n",
      "X does not have valid feature names, but GradientBoostingRegressor was fitted with feature names\n"
     ]
    }
   ],
   "source": [
    "explainer_svm = dx.Explainer(svm, X_train, y_train, predict_function=model_predicting_method, \\\n",
    "                             label=\"SVM_house_price\")\n",
    "explainer_xgboost = dx.Explainer(xgboost, X_train, y_train, predict_function=model_predicting_method, \\\n",
    "                                 label=\"XGBoost_house_price\")"
   ]
  },
  {
   "cell_type": "code",
   "execution_count": null,
   "id": "d56ba7c7",
   "metadata": {},
   "outputs": [
    {
     "name": "stdout",
     "output_type": "stream",
     "text": [
      "0 0\n"
     ]
    },
    {
     "name": "stderr",
     "output_type": "stream",
     "text": [
      "X does not have valid feature names, but GradientBoostingRegressor was fitted with feature names\n",
      "X does not have valid feature names, but GradientBoostingRegressor was fitted with feature names\n",
      "X does not have valid feature names, but SVR was fitted with feature names\n",
      "X does not have valid feature names, but SVR was fitted with feature names\n"
     ]
    },
    {
     "name": "stdout",
     "output_type": "stream",
     "text": [
      "0 1\n"
     ]
    },
    {
     "name": "stderr",
     "output_type": "stream",
     "text": [
      "X does not have valid feature names, but GradientBoostingRegressor was fitted with feature names\n",
      "X does not have valid feature names, but GradientBoostingRegressor was fitted with feature names\n",
      "X does not have valid feature names, but SVR was fitted with feature names\n",
      "X does not have valid feature names, but SVR was fitted with feature names\n"
     ]
    },
    {
     "name": "stdout",
     "output_type": "stream",
     "text": [
      "0 2\n"
     ]
    },
    {
     "name": "stderr",
     "output_type": "stream",
     "text": [
      "X does not have valid feature names, but GradientBoostingRegressor was fitted with feature names\n",
      "X does not have valid feature names, but GradientBoostingRegressor was fitted with feature names\n",
      "X does not have valid feature names, but SVR was fitted with feature names\n",
      "X does not have valid feature names, but SVR was fitted with feature names\n"
     ]
    },
    {
     "name": "stdout",
     "output_type": "stream",
     "text": [
      "0 3\n"
     ]
    },
    {
     "name": "stderr",
     "output_type": "stream",
     "text": [
      "X does not have valid feature names, but GradientBoostingRegressor was fitted with feature names\n",
      "X does not have valid feature names, but GradientBoostingRegressor was fitted with feature names\n",
      "X does not have valid feature names, but SVR was fitted with feature names\n",
      "X does not have valid feature names, but SVR was fitted with feature names\n"
     ]
    },
    {
     "name": "stdout",
     "output_type": "stream",
     "text": [
      "0 4\n"
     ]
    },
    {
     "name": "stderr",
     "output_type": "stream",
     "text": [
      "X does not have valid feature names, but GradientBoostingRegressor was fitted with feature names\n",
      "X does not have valid feature names, but GradientBoostingRegressor was fitted with feature names\n",
      "X does not have valid feature names, but SVR was fitted with feature names\n",
      "X does not have valid feature names, but SVR was fitted with feature names\n"
     ]
    },
    {
     "name": "stdout",
     "output_type": "stream",
     "text": [
      "0 5\n"
     ]
    },
    {
     "name": "stderr",
     "output_type": "stream",
     "text": [
      "X does not have valid feature names, but GradientBoostingRegressor was fitted with feature names\n",
      "X does not have valid feature names, but GradientBoostingRegressor was fitted with feature names\n",
      "X does not have valid feature names, but SVR was fitted with feature names\n",
      "X does not have valid feature names, but SVR was fitted with feature names\n"
     ]
    },
    {
     "name": "stdout",
     "output_type": "stream",
     "text": [
      "0 6\n"
     ]
    },
    {
     "name": "stderr",
     "output_type": "stream",
     "text": [
      "X does not have valid feature names, but GradientBoostingRegressor was fitted with feature names\n",
      "X does not have valid feature names, but GradientBoostingRegressor was fitted with feature names\n",
      "X does not have valid feature names, but SVR was fitted with feature names\n",
      "X does not have valid feature names, but SVR was fitted with feature names\n"
     ]
    },
    {
     "name": "stdout",
     "output_type": "stream",
     "text": [
      "0 7\n"
     ]
    },
    {
     "name": "stderr",
     "output_type": "stream",
     "text": [
      "X does not have valid feature names, but GradientBoostingRegressor was fitted with feature names\n",
      "X does not have valid feature names, but GradientBoostingRegressor was fitted with feature names\n",
      "X does not have valid feature names, but SVR was fitted with feature names\n",
      "X does not have valid feature names, but SVR was fitted with feature names\n"
     ]
    },
    {
     "name": "stdout",
     "output_type": "stream",
     "text": [
      "0 8\n"
     ]
    },
    {
     "name": "stderr",
     "output_type": "stream",
     "text": [
      "X does not have valid feature names, but GradientBoostingRegressor was fitted with feature names\n",
      "X does not have valid feature names, but GradientBoostingRegressor was fitted with feature names\n",
      "X does not have valid feature names, but SVR was fitted with feature names\n",
      "X does not have valid feature names, but SVR was fitted with feature names\n"
     ]
    },
    {
     "name": "stdout",
     "output_type": "stream",
     "text": [
      "0 9\n"
     ]
    },
    {
     "name": "stderr",
     "output_type": "stream",
     "text": [
      "X does not have valid feature names, but GradientBoostingRegressor was fitted with feature names\n",
      "X does not have valid feature names, but GradientBoostingRegressor was fitted with feature names\n",
      "X does not have valid feature names, but SVR was fitted with feature names\n",
      "X does not have valid feature names, but SVR was fitted with feature names\n"
     ]
    },
    {
     "name": "stdout",
     "output_type": "stream",
     "text": [
      "0 10\n"
     ]
    },
    {
     "name": "stderr",
     "output_type": "stream",
     "text": [
      "X does not have valid feature names, but GradientBoostingRegressor was fitted with feature names\n",
      "X does not have valid feature names, but GradientBoostingRegressor was fitted with feature names\n",
      "X does not have valid feature names, but SVR was fitted with feature names\n",
      "X does not have valid feature names, but SVR was fitted with feature names\n"
     ]
    },
    {
     "name": "stdout",
     "output_type": "stream",
     "text": [
      "0 11\n"
     ]
    },
    {
     "name": "stderr",
     "output_type": "stream",
     "text": [
      "X does not have valid feature names, but GradientBoostingRegressor was fitted with feature names\n",
      "X does not have valid feature names, but GradientBoostingRegressor was fitted with feature names\n",
      "X does not have valid feature names, but SVR was fitted with feature names\n",
      "X does not have valid feature names, but SVR was fitted with feature names\n"
     ]
    },
    {
     "name": "stdout",
     "output_type": "stream",
     "text": [
      "0 12\n"
     ]
    },
    {
     "name": "stderr",
     "output_type": "stream",
     "text": [
      "X does not have valid feature names, but GradientBoostingRegressor was fitted with feature names\n",
      "X does not have valid feature names, but GradientBoostingRegressor was fitted with feature names\n",
      "X does not have valid feature names, but SVR was fitted with feature names\n",
      "X does not have valid feature names, but SVR was fitted with feature names\n"
     ]
    },
    {
     "name": "stdout",
     "output_type": "stream",
     "text": [
      "0 13\n"
     ]
    },
    {
     "name": "stderr",
     "output_type": "stream",
     "text": [
      "X does not have valid feature names, but GradientBoostingRegressor was fitted with feature names\n",
      "X does not have valid feature names, but GradientBoostingRegressor was fitted with feature names\n",
      "X does not have valid feature names, but SVR was fitted with feature names\n",
      "X does not have valid feature names, but SVR was fitted with feature names\n"
     ]
    },
    {
     "name": "stdout",
     "output_type": "stream",
     "text": [
      "0 14\n"
     ]
    },
    {
     "name": "stderr",
     "output_type": "stream",
     "text": [
      "X does not have valid feature names, but GradientBoostingRegressor was fitted with feature names\n",
      "X does not have valid feature names, but GradientBoostingRegressor was fitted with feature names\n",
      "X does not have valid feature names, but SVR was fitted with feature names\n",
      "X does not have valid feature names, but SVR was fitted with feature names\n"
     ]
    },
    {
     "name": "stdout",
     "output_type": "stream",
     "text": [
      "0 15\n"
     ]
    },
    {
     "name": "stderr",
     "output_type": "stream",
     "text": [
      "X does not have valid feature names, but GradientBoostingRegressor was fitted with feature names\n",
      "X does not have valid feature names, but GradientBoostingRegressor was fitted with feature names\n",
      "X does not have valid feature names, but SVR was fitted with feature names\n",
      "X does not have valid feature names, but SVR was fitted with feature names\n"
     ]
    },
    {
     "name": "stdout",
     "output_type": "stream",
     "text": [
      "0 16\n"
     ]
    },
    {
     "name": "stderr",
     "output_type": "stream",
     "text": [
      "X does not have valid feature names, but GradientBoostingRegressor was fitted with feature names\n",
      "X does not have valid feature names, but GradientBoostingRegressor was fitted with feature names\n",
      "X does not have valid feature names, but SVR was fitted with feature names\n",
      "X does not have valid feature names, but SVR was fitted with feature names\n"
     ]
    },
    {
     "name": "stdout",
     "output_type": "stream",
     "text": [
      "0 17\n"
     ]
    },
    {
     "name": "stderr",
     "output_type": "stream",
     "text": [
      "X does not have valid feature names, but GradientBoostingRegressor was fitted with feature names\n",
      "X does not have valid feature names, but GradientBoostingRegressor was fitted with feature names\n",
      "X does not have valid feature names, but SVR was fitted with feature names\n",
      "X does not have valid feature names, but SVR was fitted with feature names\n"
     ]
    },
    {
     "name": "stdout",
     "output_type": "stream",
     "text": [
      "0 18\n"
     ]
    },
    {
     "name": "stderr",
     "output_type": "stream",
     "text": [
      "X does not have valid feature names, but GradientBoostingRegressor was fitted with feature names\n",
      "X does not have valid feature names, but GradientBoostingRegressor was fitted with feature names\n",
      "X does not have valid feature names, but SVR was fitted with feature names\n",
      "X does not have valid feature names, but SVR was fitted with feature names\n"
     ]
    },
    {
     "name": "stdout",
     "output_type": "stream",
     "text": [
      "0 19\n"
     ]
    },
    {
     "name": "stderr",
     "output_type": "stream",
     "text": [
      "X does not have valid feature names, but GradientBoostingRegressor was fitted with feature names\n",
      "X does not have valid feature names, but GradientBoostingRegressor was fitted with feature names\n",
      "X does not have valid feature names, but SVR was fitted with feature names\n",
      "X does not have valid feature names, but SVR was fitted with feature names\n"
     ]
    },
    {
     "name": "stdout",
     "output_type": "stream",
     "text": [
      "0 20\n"
     ]
    },
    {
     "name": "stderr",
     "output_type": "stream",
     "text": [
      "X does not have valid feature names, but GradientBoostingRegressor was fitted with feature names\n",
      "X does not have valid feature names, but GradientBoostingRegressor was fitted with feature names\n",
      "X does not have valid feature names, but SVR was fitted with feature names\n",
      "X does not have valid feature names, but SVR was fitted with feature names\n"
     ]
    },
    {
     "name": "stdout",
     "output_type": "stream",
     "text": [
      "0 21\n"
     ]
    },
    {
     "name": "stderr",
     "output_type": "stream",
     "text": [
      "X does not have valid feature names, but GradientBoostingRegressor was fitted with feature names\n",
      "X does not have valid feature names, but GradientBoostingRegressor was fitted with feature names\n",
      "X does not have valid feature names, but SVR was fitted with feature names\n",
      "X does not have valid feature names, but SVR was fitted with feature names\n"
     ]
    },
    {
     "name": "stdout",
     "output_type": "stream",
     "text": [
      "0 22\n"
     ]
    },
    {
     "name": "stderr",
     "output_type": "stream",
     "text": [
      "X does not have valid feature names, but GradientBoostingRegressor was fitted with feature names\n",
      "X does not have valid feature names, but GradientBoostingRegressor was fitted with feature names\n",
      "X does not have valid feature names, but SVR was fitted with feature names\n",
      "X does not have valid feature names, but SVR was fitted with feature names\n"
     ]
    },
    {
     "name": "stdout",
     "output_type": "stream",
     "text": [
      "0 23\n"
     ]
    },
    {
     "name": "stderr",
     "output_type": "stream",
     "text": [
      "X does not have valid feature names, but GradientBoostingRegressor was fitted with feature names\n",
      "X does not have valid feature names, but GradientBoostingRegressor was fitted with feature names\n",
      "X does not have valid feature names, but SVR was fitted with feature names\n",
      "X does not have valid feature names, but SVR was fitted with feature names\n"
     ]
    },
    {
     "name": "stdout",
     "output_type": "stream",
     "text": [
      "0 24\n"
     ]
    },
    {
     "name": "stderr",
     "output_type": "stream",
     "text": [
      "X does not have valid feature names, but GradientBoostingRegressor was fitted with feature names\n",
      "X does not have valid feature names, but GradientBoostingRegressor was fitted with feature names\n",
      "X does not have valid feature names, but SVR was fitted with feature names\n",
      "X does not have valid feature names, but SVR was fitted with feature names\n"
     ]
    },
    {
     "name": "stdout",
     "output_type": "stream",
     "text": [
      "0 25\n"
     ]
    },
    {
     "name": "stderr",
     "output_type": "stream",
     "text": [
      "X does not have valid feature names, but GradientBoostingRegressor was fitted with feature names\n",
      "X does not have valid feature names, but GradientBoostingRegressor was fitted with feature names\n",
      "X does not have valid feature names, but SVR was fitted with feature names\n",
      "X does not have valid feature names, but SVR was fitted with feature names\n"
     ]
    },
    {
     "name": "stdout",
     "output_type": "stream",
     "text": [
      "0 26\n"
     ]
    },
    {
     "name": "stderr",
     "output_type": "stream",
     "text": [
      "X does not have valid feature names, but GradientBoostingRegressor was fitted with feature names\n",
      "X does not have valid feature names, but GradientBoostingRegressor was fitted with feature names\n",
      "X does not have valid feature names, but SVR was fitted with feature names\n",
      "X does not have valid feature names, but SVR was fitted with feature names\n"
     ]
    },
    {
     "name": "stdout",
     "output_type": "stream",
     "text": [
      "0 27\n"
     ]
    },
    {
     "name": "stderr",
     "output_type": "stream",
     "text": [
      "X does not have valid feature names, but GradientBoostingRegressor was fitted with feature names\n",
      "X does not have valid feature names, but GradientBoostingRegressor was fitted with feature names\n",
      "X does not have valid feature names, but SVR was fitted with feature names\n",
      "X does not have valid feature names, but SVR was fitted with feature names\n"
     ]
    },
    {
     "name": "stdout",
     "output_type": "stream",
     "text": [
      "0 28\n"
     ]
    },
    {
     "name": "stderr",
     "output_type": "stream",
     "text": [
      "X does not have valid feature names, but GradientBoostingRegressor was fitted with feature names\n",
      "X does not have valid feature names, but GradientBoostingRegressor was fitted with feature names\n",
      "X does not have valid feature names, but SVR was fitted with feature names\n",
      "X does not have valid feature names, but SVR was fitted with feature names\n"
     ]
    },
    {
     "name": "stdout",
     "output_type": "stream",
     "text": [
      "0 29\n"
     ]
    },
    {
     "name": "stderr",
     "output_type": "stream",
     "text": [
      "X does not have valid feature names, but GradientBoostingRegressor was fitted with feature names\n",
      "X does not have valid feature names, but GradientBoostingRegressor was fitted with feature names\n",
      "X does not have valid feature names, but SVR was fitted with feature names\n",
      "X does not have valid feature names, but SVR was fitted with feature names\n"
     ]
    },
    {
     "name": "stdout",
     "output_type": "stream",
     "text": [
      "0 30\n"
     ]
    },
    {
     "name": "stderr",
     "output_type": "stream",
     "text": [
      "X does not have valid feature names, but GradientBoostingRegressor was fitted with feature names\n",
      "X does not have valid feature names, but GradientBoostingRegressor was fitted with feature names\n",
      "X does not have valid feature names, but SVR was fitted with feature names\n",
      "X does not have valid feature names, but SVR was fitted with feature names\n"
     ]
    },
    {
     "name": "stdout",
     "output_type": "stream",
     "text": [
      "0 31\n"
     ]
    },
    {
     "name": "stderr",
     "output_type": "stream",
     "text": [
      "X does not have valid feature names, but GradientBoostingRegressor was fitted with feature names\n",
      "X does not have valid feature names, but GradientBoostingRegressor was fitted with feature names\n",
      "X does not have valid feature names, but SVR was fitted with feature names\n",
      "X does not have valid feature names, but SVR was fitted with feature names\n"
     ]
    },
    {
     "name": "stdout",
     "output_type": "stream",
     "text": [
      "0 32\n"
     ]
    },
    {
     "name": "stderr",
     "output_type": "stream",
     "text": [
      "X does not have valid feature names, but GradientBoostingRegressor was fitted with feature names\n",
      "X does not have valid feature names, but GradientBoostingRegressor was fitted with feature names\n",
      "X does not have valid feature names, but SVR was fitted with feature names\n",
      "X does not have valid feature names, but SVR was fitted with feature names\n"
     ]
    },
    {
     "name": "stdout",
     "output_type": "stream",
     "text": [
      "0 33\n"
     ]
    },
    {
     "name": "stderr",
     "output_type": "stream",
     "text": [
      "X does not have valid feature names, but GradientBoostingRegressor was fitted with feature names\n",
      "X does not have valid feature names, but GradientBoostingRegressor was fitted with feature names\n",
      "X does not have valid feature names, but SVR was fitted with feature names\n",
      "X does not have valid feature names, but SVR was fitted with feature names\n"
     ]
    },
    {
     "name": "stdout",
     "output_type": "stream",
     "text": [
      "0 34\n"
     ]
    },
    {
     "name": "stderr",
     "output_type": "stream",
     "text": [
      "X does not have valid feature names, but GradientBoostingRegressor was fitted with feature names\n",
      "X does not have valid feature names, but GradientBoostingRegressor was fitted with feature names\n",
      "X does not have valid feature names, but SVR was fitted with feature names\n",
      "X does not have valid feature names, but SVR was fitted with feature names\n"
     ]
    },
    {
     "name": "stdout",
     "output_type": "stream",
     "text": [
      "0 35\n"
     ]
    },
    {
     "name": "stderr",
     "output_type": "stream",
     "text": [
      "X does not have valid feature names, but GradientBoostingRegressor was fitted with feature names\n",
      "X does not have valid feature names, but GradientBoostingRegressor was fitted with feature names\n",
      "X does not have valid feature names, but SVR was fitted with feature names\n",
      "X does not have valid feature names, but SVR was fitted with feature names\n"
     ]
    },
    {
     "name": "stdout",
     "output_type": "stream",
     "text": [
      "0 36\n"
     ]
    },
    {
     "name": "stderr",
     "output_type": "stream",
     "text": [
      "X does not have valid feature names, but GradientBoostingRegressor was fitted with feature names\n",
      "X does not have valid feature names, but GradientBoostingRegressor was fitted with feature names\n",
      "X does not have valid feature names, but SVR was fitted with feature names\n",
      "X does not have valid feature names, but SVR was fitted with feature names\n"
     ]
    },
    {
     "name": "stdout",
     "output_type": "stream",
     "text": [
      "0 37\n"
     ]
    },
    {
     "name": "stderr",
     "output_type": "stream",
     "text": [
      "X does not have valid feature names, but GradientBoostingRegressor was fitted with feature names\n",
      "X does not have valid feature names, but GradientBoostingRegressor was fitted with feature names\n",
      "X does not have valid feature names, but SVR was fitted with feature names\n",
      "X does not have valid feature names, but SVR was fitted with feature names\n"
     ]
    },
    {
     "name": "stdout",
     "output_type": "stream",
     "text": [
      "0 38\n"
     ]
    },
    {
     "name": "stderr",
     "output_type": "stream",
     "text": [
      "X does not have valid feature names, but GradientBoostingRegressor was fitted with feature names\n",
      "X does not have valid feature names, but GradientBoostingRegressor was fitted with feature names\n",
      "X does not have valid feature names, but SVR was fitted with feature names\n",
      "X does not have valid feature names, but SVR was fitted with feature names\n"
     ]
    },
    {
     "name": "stdout",
     "output_type": "stream",
     "text": [
      "0 39\n"
     ]
    },
    {
     "name": "stderr",
     "output_type": "stream",
     "text": [
      "X does not have valid feature names, but GradientBoostingRegressor was fitted with feature names\n",
      "X does not have valid feature names, but GradientBoostingRegressor was fitted with feature names\n",
      "X does not have valid feature names, but SVR was fitted with feature names\n",
      "X does not have valid feature names, but SVR was fitted with feature names\n"
     ]
    },
    {
     "name": "stdout",
     "output_type": "stream",
     "text": [
      "0 40\n"
     ]
    },
    {
     "name": "stderr",
     "output_type": "stream",
     "text": [
      "X does not have valid feature names, but GradientBoostingRegressor was fitted with feature names\n",
      "X does not have valid feature names, but GradientBoostingRegressor was fitted with feature names\n",
      "X does not have valid feature names, but SVR was fitted with feature names\n",
      "X does not have valid feature names, but SVR was fitted with feature names\n"
     ]
    },
    {
     "name": "stdout",
     "output_type": "stream",
     "text": [
      "0 41\n"
     ]
    },
    {
     "name": "stderr",
     "output_type": "stream",
     "text": [
      "X does not have valid feature names, but GradientBoostingRegressor was fitted with feature names\n",
      "X does not have valid feature names, but GradientBoostingRegressor was fitted with feature names\n",
      "X does not have valid feature names, but SVR was fitted with feature names\n",
      "X does not have valid feature names, but SVR was fitted with feature names\n"
     ]
    },
    {
     "name": "stdout",
     "output_type": "stream",
     "text": [
      "0 42\n"
     ]
    },
    {
     "name": "stderr",
     "output_type": "stream",
     "text": [
      "X does not have valid feature names, but GradientBoostingRegressor was fitted with feature names\n",
      "X does not have valid feature names, but GradientBoostingRegressor was fitted with feature names\n",
      "X does not have valid feature names, but SVR was fitted with feature names\n",
      "X does not have valid feature names, but SVR was fitted with feature names\n"
     ]
    },
    {
     "name": "stdout",
     "output_type": "stream",
     "text": [
      "0 43\n"
     ]
    },
    {
     "name": "stderr",
     "output_type": "stream",
     "text": [
      "X does not have valid feature names, but GradientBoostingRegressor was fitted with feature names\n",
      "X does not have valid feature names, but GradientBoostingRegressor was fitted with feature names\n",
      "X does not have valid feature names, but SVR was fitted with feature names\n",
      "X does not have valid feature names, but SVR was fitted with feature names\n"
     ]
    },
    {
     "name": "stdout",
     "output_type": "stream",
     "text": [
      "0 44\n"
     ]
    },
    {
     "name": "stderr",
     "output_type": "stream",
     "text": [
      "X does not have valid feature names, but GradientBoostingRegressor was fitted with feature names\n",
      "X does not have valid feature names, but GradientBoostingRegressor was fitted with feature names\n",
      "X does not have valid feature names, but SVR was fitted with feature names\n",
      "X does not have valid feature names, but SVR was fitted with feature names\n"
     ]
    },
    {
     "name": "stdout",
     "output_type": "stream",
     "text": [
      "0 45\n"
     ]
    },
    {
     "name": "stderr",
     "output_type": "stream",
     "text": [
      "X does not have valid feature names, but GradientBoostingRegressor was fitted with feature names\n",
      "X does not have valid feature names, but GradientBoostingRegressor was fitted with feature names\n",
      "X does not have valid feature names, but SVR was fitted with feature names\n",
      "X does not have valid feature names, but SVR was fitted with feature names\n"
     ]
    },
    {
     "name": "stdout",
     "output_type": "stream",
     "text": [
      "0 46\n"
     ]
    },
    {
     "name": "stderr",
     "output_type": "stream",
     "text": [
      "X does not have valid feature names, but GradientBoostingRegressor was fitted with feature names\n",
      "X does not have valid feature names, but GradientBoostingRegressor was fitted with feature names\n",
      "X does not have valid feature names, but SVR was fitted with feature names\n",
      "X does not have valid feature names, but SVR was fitted with feature names\n"
     ]
    },
    {
     "name": "stdout",
     "output_type": "stream",
     "text": [
      "0 47\n"
     ]
    },
    {
     "name": "stderr",
     "output_type": "stream",
     "text": [
      "X does not have valid feature names, but GradientBoostingRegressor was fitted with feature names\n",
      "X does not have valid feature names, but GradientBoostingRegressor was fitted with feature names\n",
      "X does not have valid feature names, but SVR was fitted with feature names\n",
      "X does not have valid feature names, but SVR was fitted with feature names\n"
     ]
    },
    {
     "name": "stdout",
     "output_type": "stream",
     "text": [
      "0 48\n"
     ]
    },
    {
     "name": "stderr",
     "output_type": "stream",
     "text": [
      "X does not have valid feature names, but GradientBoostingRegressor was fitted with feature names\n",
      "X does not have valid feature names, but GradientBoostingRegressor was fitted with feature names\n",
      "X does not have valid feature names, but SVR was fitted with feature names\n",
      "X does not have valid feature names, but SVR was fitted with feature names\n"
     ]
    },
    {
     "name": "stdout",
     "output_type": "stream",
     "text": [
      "0 49\n"
     ]
    },
    {
     "name": "stderr",
     "output_type": "stream",
     "text": [
      "X does not have valid feature names, but GradientBoostingRegressor was fitted with feature names\n",
      "X does not have valid feature names, but GradientBoostingRegressor was fitted with feature names\n",
      "X does not have valid feature names, but SVR was fitted with feature names\n",
      "X does not have valid feature names, but SVR was fitted with feature names\n"
     ]
    },
    {
     "name": "stdout",
     "output_type": "stream",
     "text": [
      "0 50\n"
     ]
    },
    {
     "name": "stderr",
     "output_type": "stream",
     "text": [
      "X does not have valid feature names, but GradientBoostingRegressor was fitted with feature names\n",
      "X does not have valid feature names, but GradientBoostingRegressor was fitted with feature names\n",
      "X does not have valid feature names, but SVR was fitted with feature names\n",
      "X does not have valid feature names, but SVR was fitted with feature names\n"
     ]
    },
    {
     "name": "stdout",
     "output_type": "stream",
     "text": [
      "0 51\n"
     ]
    },
    {
     "name": "stderr",
     "output_type": "stream",
     "text": [
      "X does not have valid feature names, but GradientBoostingRegressor was fitted with feature names\n",
      "X does not have valid feature names, but GradientBoostingRegressor was fitted with feature names\n",
      "X does not have valid feature names, but SVR was fitted with feature names\n",
      "X does not have valid feature names, but SVR was fitted with feature names\n"
     ]
    },
    {
     "name": "stdout",
     "output_type": "stream",
     "text": [
      "0 52\n"
     ]
    },
    {
     "name": "stderr",
     "output_type": "stream",
     "text": [
      "X does not have valid feature names, but GradientBoostingRegressor was fitted with feature names\n",
      "X does not have valid feature names, but GradientBoostingRegressor was fitted with feature names\n",
      "X does not have valid feature names, but SVR was fitted with feature names\n",
      "X does not have valid feature names, but SVR was fitted with feature names\n"
     ]
    },
    {
     "name": "stdout",
     "output_type": "stream",
     "text": [
      "0 53\n"
     ]
    },
    {
     "name": "stderr",
     "output_type": "stream",
     "text": [
      "X does not have valid feature names, but GradientBoostingRegressor was fitted with feature names\n",
      "X does not have valid feature names, but GradientBoostingRegressor was fitted with feature names\n",
      "X does not have valid feature names, but SVR was fitted with feature names\n",
      "X does not have valid feature names, but SVR was fitted with feature names\n"
     ]
    },
    {
     "name": "stdout",
     "output_type": "stream",
     "text": [
      "0 54\n"
     ]
    },
    {
     "name": "stderr",
     "output_type": "stream",
     "text": [
      "X does not have valid feature names, but GradientBoostingRegressor was fitted with feature names\n",
      "X does not have valid feature names, but GradientBoostingRegressor was fitted with feature names\n",
      "X does not have valid feature names, but SVR was fitted with feature names\n",
      "X does not have valid feature names, but SVR was fitted with feature names\n"
     ]
    },
    {
     "name": "stdout",
     "output_type": "stream",
     "text": [
      "0 55\n"
     ]
    },
    {
     "name": "stderr",
     "output_type": "stream",
     "text": [
      "X does not have valid feature names, but GradientBoostingRegressor was fitted with feature names\n",
      "X does not have valid feature names, but GradientBoostingRegressor was fitted with feature names\n",
      "X does not have valid feature names, but SVR was fitted with feature names\n",
      "X does not have valid feature names, but SVR was fitted with feature names\n"
     ]
    },
    {
     "name": "stdout",
     "output_type": "stream",
     "text": [
      "0 56\n"
     ]
    },
    {
     "name": "stderr",
     "output_type": "stream",
     "text": [
      "X does not have valid feature names, but GradientBoostingRegressor was fitted with feature names\n",
      "X does not have valid feature names, but GradientBoostingRegressor was fitted with feature names\n",
      "X does not have valid feature names, but SVR was fitted with feature names\n",
      "X does not have valid feature names, but SVR was fitted with feature names\n"
     ]
    },
    {
     "name": "stdout",
     "output_type": "stream",
     "text": [
      "0 57\n"
     ]
    },
    {
     "name": "stderr",
     "output_type": "stream",
     "text": [
      "X does not have valid feature names, but GradientBoostingRegressor was fitted with feature names\n",
      "X does not have valid feature names, but GradientBoostingRegressor was fitted with feature names\n",
      "X does not have valid feature names, but SVR was fitted with feature names\n",
      "X does not have valid feature names, but SVR was fitted with feature names\n"
     ]
    },
    {
     "name": "stdout",
     "output_type": "stream",
     "text": [
      "0 58\n"
     ]
    },
    {
     "name": "stderr",
     "output_type": "stream",
     "text": [
      "X does not have valid feature names, but GradientBoostingRegressor was fitted with feature names\n",
      "X does not have valid feature names, but GradientBoostingRegressor was fitted with feature names\n",
      "X does not have valid feature names, but SVR was fitted with feature names\n",
      "X does not have valid feature names, but SVR was fitted with feature names\n"
     ]
    },
    {
     "name": "stdout",
     "output_type": "stream",
     "text": [
      "0 59\n"
     ]
    },
    {
     "name": "stderr",
     "output_type": "stream",
     "text": [
      "X does not have valid feature names, but GradientBoostingRegressor was fitted with feature names\n",
      "X does not have valid feature names, but GradientBoostingRegressor was fitted with feature names\n",
      "X does not have valid feature names, but SVR was fitted with feature names\n",
      "X does not have valid feature names, but SVR was fitted with feature names\n"
     ]
    },
    {
     "name": "stdout",
     "output_type": "stream",
     "text": [
      "0 60\n"
     ]
    },
    {
     "name": "stderr",
     "output_type": "stream",
     "text": [
      "X does not have valid feature names, but GradientBoostingRegressor was fitted with feature names\n",
      "X does not have valid feature names, but GradientBoostingRegressor was fitted with feature names\n",
      "X does not have valid feature names, but SVR was fitted with feature names\n",
      "X does not have valid feature names, but SVR was fitted with feature names\n"
     ]
    },
    {
     "name": "stdout",
     "output_type": "stream",
     "text": [
      "0 61\n"
     ]
    },
    {
     "name": "stderr",
     "output_type": "stream",
     "text": [
      "X does not have valid feature names, but GradientBoostingRegressor was fitted with feature names\n",
      "X does not have valid feature names, but GradientBoostingRegressor was fitted with feature names\n",
      "X does not have valid feature names, but SVR was fitted with feature names\n",
      "X does not have valid feature names, but SVR was fitted with feature names\n"
     ]
    },
    {
     "name": "stdout",
     "output_type": "stream",
     "text": [
      "0 62\n"
     ]
    },
    {
     "name": "stderr",
     "output_type": "stream",
     "text": [
      "X does not have valid feature names, but GradientBoostingRegressor was fitted with feature names\n",
      "X does not have valid feature names, but GradientBoostingRegressor was fitted with feature names\n",
      "X does not have valid feature names, but SVR was fitted with feature names\n",
      "X does not have valid feature names, but SVR was fitted with feature names\n"
     ]
    },
    {
     "name": "stdout",
     "output_type": "stream",
     "text": [
      "0 63\n"
     ]
    },
    {
     "name": "stderr",
     "output_type": "stream",
     "text": [
      "X does not have valid feature names, but GradientBoostingRegressor was fitted with feature names\n",
      "X does not have valid feature names, but GradientBoostingRegressor was fitted with feature names\n",
      "X does not have valid feature names, but SVR was fitted with feature names\n",
      "X does not have valid feature names, but SVR was fitted with feature names\n"
     ]
    },
    {
     "name": "stdout",
     "output_type": "stream",
     "text": [
      "0 64\n"
     ]
    },
    {
     "name": "stderr",
     "output_type": "stream",
     "text": [
      "X does not have valid feature names, but GradientBoostingRegressor was fitted with feature names\n",
      "X does not have valid feature names, but GradientBoostingRegressor was fitted with feature names\n",
      "X does not have valid feature names, but SVR was fitted with feature names\n",
      "X does not have valid feature names, but SVR was fitted with feature names\n"
     ]
    },
    {
     "name": "stdout",
     "output_type": "stream",
     "text": [
      "0 65\n"
     ]
    },
    {
     "name": "stderr",
     "output_type": "stream",
     "text": [
      "X does not have valid feature names, but GradientBoostingRegressor was fitted with feature names\n",
      "X does not have valid feature names, but GradientBoostingRegressor was fitted with feature names\n",
      "X does not have valid feature names, but SVR was fitted with feature names\n",
      "X does not have valid feature names, but SVR was fitted with feature names\n"
     ]
    },
    {
     "name": "stdout",
     "output_type": "stream",
     "text": [
      "0 66\n"
     ]
    },
    {
     "name": "stderr",
     "output_type": "stream",
     "text": [
      "X does not have valid feature names, but GradientBoostingRegressor was fitted with feature names\n",
      "X does not have valid feature names, but GradientBoostingRegressor was fitted with feature names\n",
      "X does not have valid feature names, but SVR was fitted with feature names\n",
      "X does not have valid feature names, but SVR was fitted with feature names\n"
     ]
    },
    {
     "name": "stdout",
     "output_type": "stream",
     "text": [
      "0 67\n"
     ]
    },
    {
     "name": "stderr",
     "output_type": "stream",
     "text": [
      "X does not have valid feature names, but GradientBoostingRegressor was fitted with feature names\n",
      "X does not have valid feature names, but GradientBoostingRegressor was fitted with feature names\n",
      "X does not have valid feature names, but SVR was fitted with feature names\n",
      "X does not have valid feature names, but SVR was fitted with feature names\n"
     ]
    },
    {
     "name": "stdout",
     "output_type": "stream",
     "text": [
      "0 68\n"
     ]
    },
    {
     "name": "stderr",
     "output_type": "stream",
     "text": [
      "X does not have valid feature names, but GradientBoostingRegressor was fitted with feature names\n",
      "X does not have valid feature names, but GradientBoostingRegressor was fitted with feature names\n",
      "X does not have valid feature names, but SVR was fitted with feature names\n",
      "X does not have valid feature names, but SVR was fitted with feature names\n"
     ]
    },
    {
     "name": "stdout",
     "output_type": "stream",
     "text": [
      "0 69\n"
     ]
    },
    {
     "name": "stderr",
     "output_type": "stream",
     "text": [
      "X does not have valid feature names, but GradientBoostingRegressor was fitted with feature names\n",
      "X does not have valid feature names, but GradientBoostingRegressor was fitted with feature names\n",
      "X does not have valid feature names, but SVR was fitted with feature names\n",
      "X does not have valid feature names, but SVR was fitted with feature names\n"
     ]
    },
    {
     "name": "stdout",
     "output_type": "stream",
     "text": [
      "0 70\n"
     ]
    },
    {
     "name": "stderr",
     "output_type": "stream",
     "text": [
      "X does not have valid feature names, but GradientBoostingRegressor was fitted with feature names\n",
      "X does not have valid feature names, but GradientBoostingRegressor was fitted with feature names\n",
      "X does not have valid feature names, but SVR was fitted with feature names\n",
      "X does not have valid feature names, but SVR was fitted with feature names\n"
     ]
    },
    {
     "name": "stdout",
     "output_type": "stream",
     "text": [
      "0 71\n"
     ]
    },
    {
     "name": "stderr",
     "output_type": "stream",
     "text": [
      "X does not have valid feature names, but GradientBoostingRegressor was fitted with feature names\n",
      "X does not have valid feature names, but GradientBoostingRegressor was fitted with feature names\n",
      "X does not have valid feature names, but SVR was fitted with feature names\n",
      "X does not have valid feature names, but SVR was fitted with feature names\n"
     ]
    },
    {
     "name": "stdout",
     "output_type": "stream",
     "text": [
      "0 72\n"
     ]
    },
    {
     "name": "stderr",
     "output_type": "stream",
     "text": [
      "X does not have valid feature names, but GradientBoostingRegressor was fitted with feature names\n",
      "X does not have valid feature names, but GradientBoostingRegressor was fitted with feature names\n",
      "X does not have valid feature names, but SVR was fitted with feature names\n",
      "X does not have valid feature names, but SVR was fitted with feature names\n"
     ]
    },
    {
     "name": "stdout",
     "output_type": "stream",
     "text": [
      "0 73\n"
     ]
    },
    {
     "name": "stderr",
     "output_type": "stream",
     "text": [
      "X does not have valid feature names, but GradientBoostingRegressor was fitted with feature names\n",
      "X does not have valid feature names, but GradientBoostingRegressor was fitted with feature names\n",
      "X does not have valid feature names, but SVR was fitted with feature names\n",
      "X does not have valid feature names, but SVR was fitted with feature names\n"
     ]
    },
    {
     "name": "stdout",
     "output_type": "stream",
     "text": [
      "0 74\n"
     ]
    },
    {
     "name": "stderr",
     "output_type": "stream",
     "text": [
      "X does not have valid feature names, but GradientBoostingRegressor was fitted with feature names\n",
      "X does not have valid feature names, but GradientBoostingRegressor was fitted with feature names\n",
      "X does not have valid feature names, but SVR was fitted with feature names\n",
      "X does not have valid feature names, but SVR was fitted with feature names\n"
     ]
    },
    {
     "name": "stdout",
     "output_type": "stream",
     "text": [
      "0 75\n"
     ]
    },
    {
     "name": "stderr",
     "output_type": "stream",
     "text": [
      "X does not have valid feature names, but GradientBoostingRegressor was fitted with feature names\n",
      "X does not have valid feature names, but GradientBoostingRegressor was fitted with feature names\n",
      "X does not have valid feature names, but SVR was fitted with feature names\n",
      "X does not have valid feature names, but SVR was fitted with feature names\n"
     ]
    },
    {
     "name": "stdout",
     "output_type": "stream",
     "text": [
      "0 76\n"
     ]
    },
    {
     "name": "stderr",
     "output_type": "stream",
     "text": [
      "X does not have valid feature names, but GradientBoostingRegressor was fitted with feature names\n",
      "X does not have valid feature names, but GradientBoostingRegressor was fitted with feature names\n",
      "X does not have valid feature names, but SVR was fitted with feature names\n",
      "X does not have valid feature names, but SVR was fitted with feature names\n"
     ]
    },
    {
     "name": "stdout",
     "output_type": "stream",
     "text": [
      "0 77\n"
     ]
    },
    {
     "name": "stderr",
     "output_type": "stream",
     "text": [
      "X does not have valid feature names, but GradientBoostingRegressor was fitted with feature names\n",
      "X does not have valid feature names, but GradientBoostingRegressor was fitted with feature names\n",
      "X does not have valid feature names, but SVR was fitted with feature names\n",
      "X does not have valid feature names, but SVR was fitted with feature names\n"
     ]
    },
    {
     "name": "stdout",
     "output_type": "stream",
     "text": [
      "0 78\n"
     ]
    },
    {
     "name": "stderr",
     "output_type": "stream",
     "text": [
      "X does not have valid feature names, but GradientBoostingRegressor was fitted with feature names\n",
      "X does not have valid feature names, but GradientBoostingRegressor was fitted with feature names\n",
      "X does not have valid feature names, but SVR was fitted with feature names\n",
      "X does not have valid feature names, but SVR was fitted with feature names\n"
     ]
    },
    {
     "name": "stdout",
     "output_type": "stream",
     "text": [
      "0 79\n"
     ]
    },
    {
     "name": "stderr",
     "output_type": "stream",
     "text": [
      "X does not have valid feature names, but GradientBoostingRegressor was fitted with feature names\n",
      "X does not have valid feature names, but GradientBoostingRegressor was fitted with feature names\n",
      "X does not have valid feature names, but SVR was fitted with feature names\n",
      "X does not have valid feature names, but SVR was fitted with feature names\n"
     ]
    },
    {
     "name": "stdout",
     "output_type": "stream",
     "text": [
      "0 80\n"
     ]
    },
    {
     "name": "stderr",
     "output_type": "stream",
     "text": [
      "X does not have valid feature names, but GradientBoostingRegressor was fitted with feature names\n",
      "X does not have valid feature names, but GradientBoostingRegressor was fitted with feature names\n",
      "X does not have valid feature names, but SVR was fitted with feature names\n",
      "X does not have valid feature names, but SVR was fitted with feature names\n"
     ]
    },
    {
     "name": "stdout",
     "output_type": "stream",
     "text": [
      "0 81\n"
     ]
    },
    {
     "name": "stderr",
     "output_type": "stream",
     "text": [
      "X does not have valid feature names, but GradientBoostingRegressor was fitted with feature names\n",
      "X does not have valid feature names, but GradientBoostingRegressor was fitted with feature names\n",
      "X does not have valid feature names, but SVR was fitted with feature names\n",
      "X does not have valid feature names, but SVR was fitted with feature names\n"
     ]
    },
    {
     "name": "stdout",
     "output_type": "stream",
     "text": [
      "0 82\n"
     ]
    },
    {
     "name": "stderr",
     "output_type": "stream",
     "text": [
      "X does not have valid feature names, but GradientBoostingRegressor was fitted with feature names\n",
      "X does not have valid feature names, but GradientBoostingRegressor was fitted with feature names\n",
      "X does not have valid feature names, but SVR was fitted with feature names\n",
      "X does not have valid feature names, but SVR was fitted with feature names\n"
     ]
    },
    {
     "name": "stdout",
     "output_type": "stream",
     "text": [
      "0 83\n"
     ]
    },
    {
     "name": "stderr",
     "output_type": "stream",
     "text": [
      "X does not have valid feature names, but GradientBoostingRegressor was fitted with feature names\n",
      "X does not have valid feature names, but GradientBoostingRegressor was fitted with feature names\n",
      "X does not have valid feature names, but SVR was fitted with feature names\n",
      "X does not have valid feature names, but SVR was fitted with feature names\n"
     ]
    },
    {
     "name": "stdout",
     "output_type": "stream",
     "text": [
      "0 84\n"
     ]
    },
    {
     "name": "stderr",
     "output_type": "stream",
     "text": [
      "X does not have valid feature names, but GradientBoostingRegressor was fitted with feature names\n",
      "X does not have valid feature names, but GradientBoostingRegressor was fitted with feature names\n",
      "X does not have valid feature names, but SVR was fitted with feature names\n",
      "X does not have valid feature names, but SVR was fitted with feature names\n"
     ]
    },
    {
     "name": "stdout",
     "output_type": "stream",
     "text": [
      "0 85\n"
     ]
    },
    {
     "name": "stderr",
     "output_type": "stream",
     "text": [
      "X does not have valid feature names, but GradientBoostingRegressor was fitted with feature names\n",
      "X does not have valid feature names, but GradientBoostingRegressor was fitted with feature names\n",
      "X does not have valid feature names, but SVR was fitted with feature names\n",
      "X does not have valid feature names, but SVR was fitted with feature names\n"
     ]
    },
    {
     "name": "stdout",
     "output_type": "stream",
     "text": [
      "0 86\n"
     ]
    },
    {
     "name": "stderr",
     "output_type": "stream",
     "text": [
      "X does not have valid feature names, but GradientBoostingRegressor was fitted with feature names\n",
      "X does not have valid feature names, but GradientBoostingRegressor was fitted with feature names\n",
      "X does not have valid feature names, but SVR was fitted with feature names\n",
      "X does not have valid feature names, but SVR was fitted with feature names\n"
     ]
    },
    {
     "name": "stdout",
     "output_type": "stream",
     "text": [
      "0 87\n"
     ]
    },
    {
     "name": "stderr",
     "output_type": "stream",
     "text": [
      "X does not have valid feature names, but GradientBoostingRegressor was fitted with feature names\n",
      "X does not have valid feature names, but GradientBoostingRegressor was fitted with feature names\n",
      "X does not have valid feature names, but SVR was fitted with feature names\n",
      "X does not have valid feature names, but SVR was fitted with feature names\n"
     ]
    },
    {
     "name": "stdout",
     "output_type": "stream",
     "text": [
      "0 88\n"
     ]
    },
    {
     "name": "stderr",
     "output_type": "stream",
     "text": [
      "X does not have valid feature names, but GradientBoostingRegressor was fitted with feature names\n",
      "X does not have valid feature names, but GradientBoostingRegressor was fitted with feature names\n",
      "X does not have valid feature names, but SVR was fitted with feature names\n",
      "X does not have valid feature names, but SVR was fitted with feature names\n"
     ]
    },
    {
     "name": "stdout",
     "output_type": "stream",
     "text": [
      "0 89\n"
     ]
    },
    {
     "name": "stderr",
     "output_type": "stream",
     "text": [
      "X does not have valid feature names, but GradientBoostingRegressor was fitted with feature names\n",
      "X does not have valid feature names, but GradientBoostingRegressor was fitted with feature names\n",
      "X does not have valid feature names, but SVR was fitted with feature names\n",
      "X does not have valid feature names, but SVR was fitted with feature names\n"
     ]
    },
    {
     "name": "stdout",
     "output_type": "stream",
     "text": [
      "0 90\n"
     ]
    },
    {
     "name": "stderr",
     "output_type": "stream",
     "text": [
      "X does not have valid feature names, but GradientBoostingRegressor was fitted with feature names\n",
      "X does not have valid feature names, but GradientBoostingRegressor was fitted with feature names\n",
      "X does not have valid feature names, but SVR was fitted with feature names\n",
      "X does not have valid feature names, but SVR was fitted with feature names\n"
     ]
    },
    {
     "name": "stdout",
     "output_type": "stream",
     "text": [
      "0 91\n"
     ]
    },
    {
     "name": "stderr",
     "output_type": "stream",
     "text": [
      "X does not have valid feature names, but GradientBoostingRegressor was fitted with feature names\n",
      "X does not have valid feature names, but GradientBoostingRegressor was fitted with feature names\n",
      "X does not have valid feature names, but SVR was fitted with feature names\n",
      "X does not have valid feature names, but SVR was fitted with feature names\n"
     ]
    },
    {
     "name": "stdout",
     "output_type": "stream",
     "text": [
      "0 92\n"
     ]
    },
    {
     "name": "stderr",
     "output_type": "stream",
     "text": [
      "X does not have valid feature names, but GradientBoostingRegressor was fitted with feature names\n",
      "X does not have valid feature names, but GradientBoostingRegressor was fitted with feature names\n",
      "X does not have valid feature names, but SVR was fitted with feature names\n",
      "X does not have valid feature names, but SVR was fitted with feature names\n"
     ]
    },
    {
     "name": "stdout",
     "output_type": "stream",
     "text": [
      "0 93\n"
     ]
    },
    {
     "name": "stderr",
     "output_type": "stream",
     "text": [
      "X does not have valid feature names, but GradientBoostingRegressor was fitted with feature names\n",
      "X does not have valid feature names, but GradientBoostingRegressor was fitted with feature names\n",
      "X does not have valid feature names, but SVR was fitted with feature names\n",
      "X does not have valid feature names, but SVR was fitted with feature names\n"
     ]
    },
    {
     "name": "stdout",
     "output_type": "stream",
     "text": [
      "0 94\n"
     ]
    },
    {
     "name": "stderr",
     "output_type": "stream",
     "text": [
      "X does not have valid feature names, but GradientBoostingRegressor was fitted with feature names\n",
      "X does not have valid feature names, but GradientBoostingRegressor was fitted with feature names\n",
      "X does not have valid feature names, but SVR was fitted with feature names\n",
      "X does not have valid feature names, but SVR was fitted with feature names\n"
     ]
    },
    {
     "name": "stdout",
     "output_type": "stream",
     "text": [
      "0 95\n"
     ]
    },
    {
     "name": "stderr",
     "output_type": "stream",
     "text": [
      "X does not have valid feature names, but GradientBoostingRegressor was fitted with feature names\n",
      "X does not have valid feature names, but GradientBoostingRegressor was fitted with feature names\n",
      "X does not have valid feature names, but SVR was fitted with feature names\n",
      "X does not have valid feature names, but SVR was fitted with feature names\n"
     ]
    },
    {
     "name": "stdout",
     "output_type": "stream",
     "text": [
      "0 96\n"
     ]
    },
    {
     "name": "stderr",
     "output_type": "stream",
     "text": [
      "X does not have valid feature names, but GradientBoostingRegressor was fitted with feature names\n",
      "X does not have valid feature names, but GradientBoostingRegressor was fitted with feature names\n",
      "X does not have valid feature names, but SVR was fitted with feature names\n",
      "X does not have valid feature names, but SVR was fitted with feature names\n"
     ]
    },
    {
     "name": "stdout",
     "output_type": "stream",
     "text": [
      "0 97\n"
     ]
    },
    {
     "name": "stderr",
     "output_type": "stream",
     "text": [
      "X does not have valid feature names, but GradientBoostingRegressor was fitted with feature names\n",
      "X does not have valid feature names, but GradientBoostingRegressor was fitted with feature names\n",
      "X does not have valid feature names, but SVR was fitted with feature names\n",
      "X does not have valid feature names, but SVR was fitted with feature names\n"
     ]
    },
    {
     "name": "stdout",
     "output_type": "stream",
     "text": [
      "0 98\n"
     ]
    },
    {
     "name": "stderr",
     "output_type": "stream",
     "text": [
      "X does not have valid feature names, but GradientBoostingRegressor was fitted with feature names\n",
      "X does not have valid feature names, but GradientBoostingRegressor was fitted with feature names\n",
      "X does not have valid feature names, but SVR was fitted with feature names\n",
      "X does not have valid feature names, but SVR was fitted with feature names\n"
     ]
    }
   ],
   "source": [
    "N = 100\n",
    "nb_of_features = len(X_test.columns)\n",
    "\n",
    "nb_of_samples = [10, 50, 90, 150, 200]\n",
    "contributions_xgboost = np.zeros((len(nb_of_samples), N, nb_of_features))\n",
    "contributions_svm = np.zeros((len(nb_of_samples), N, nb_of_features))\n",
    "\n",
    "for j, samples in enumerate(nb_of_samples):\n",
    "    for i in range(0, N):\n",
    "        print(j, i)\n",
    "        for explainer, contributions in zip([explainer_xgboost, explainer_svm], \\\n",
    "                                            [contributions_xgboost, contributions_svm]):\n",
    "            explain = explainer.predict_parts(X_test.iloc[0:1], type=\"unbiased_kernel_shap\",\n",
    "                                              n_samples = samples, label=f\"sample id: 0\")\n",
    "            contr = explain.result['contribution'].to_numpy()\n",
    "            contributions[j, i, :] = contr"
   ]
  },
  {
   "cell_type": "code",
   "execution_count": null,
   "id": "537a8036",
   "metadata": {},
   "outputs": [],
   "source": [
    "avg_xgboost = np.mean(contributions_xgboost, axis = 1)\n",
    "std_xgboost = np.std(contributions_xgboost, axis = 1)\n",
    "avg_svm = np.mean(contributions_svm, axis = 1)\n",
    "std_svm = np.std(contributions_svm, axis = 1)"
   ]
  },
  {
   "cell_type": "code",
   "execution_count": null,
   "id": "71652d22",
   "metadata": {},
   "outputs": [],
   "source": [
    "exact_explainer_svm = shap.explainers.Exact(svm.predict, X_train)\n",
    "exact_explainer_xgboost = shap.explainers.Exact(xgboost.predict, X_train)\n",
    "\n",
    "exact_shap_result = []\n",
    "for explainer in [exact_explainer_svm, exact_explainer_xgboost]:\n",
    "\n",
    "    shap_values = explainer(X_test.iloc[0:1])\n",
    "\n",
    "    exact_shap_result.append(shap_values.values)"
   ]
  },
  {
   "cell_type": "code",
   "execution_count": null,
   "id": "8b2b821b",
   "metadata": {},
   "outputs": [],
   "source": [
    "svm_error = np.sum(abs(avg_svm - exact_shap_result[0]), axis=1) / abs(np.sum(exact_shap_result[0]))\n",
    "xgboost_error = np.sum(abs(avg_xgboost - exact_shap_result[1]), axis=1) / abs(np.sum(exact_shap_result[1]))"
   ]
  },
  {
   "cell_type": "code",
   "execution_count": null,
   "id": "c788bd47",
   "metadata": {},
   "outputs": [],
   "source": [
    "#czy można uśrednić std? czy to matematyczne brednie?"
   ]
  },
  {
   "cell_type": "code",
   "execution_count": null,
   "id": "aa79a687",
   "metadata": {},
   "outputs": [],
   "source": [
    "np.mean(std_xgboost, axis=1)"
   ]
  },
  {
   "cell_type": "code",
   "execution_count": null,
   "id": "5c2b0302",
   "metadata": {},
   "outputs": [],
   "source": [
    "from matplotlib import pyplot as plt\n",
    "\n",
    "plt.scatter(nb_of_samples, xgboost_error)"
   ]
  },
  {
   "cell_type": "code",
   "execution_count": null,
   "id": "e23d00c9",
   "metadata": {},
   "outputs": [],
   "source": [
    "from matplotlib import pyplot as plt\n",
    "\n",
    "plt.scatter(nb_of_samples, svm_error)"
   ]
  },
  {
   "cell_type": "code",
   "execution_count": null,
   "id": "f4805e44",
   "metadata": {},
   "outputs": [],
   "source": []
  },
  {
   "cell_type": "code",
   "execution_count": null,
   "id": "9032e4bf",
   "metadata": {},
   "outputs": [],
   "source": []
  }
 ],
 "metadata": {
  "kernelspec": {
   "display_name": "ikernel-py",
   "language": "python",
   "name": "python3"
  },
  "language_info": {
   "codemirror_mode": {
    "name": "ipython",
    "version": 3
   },
   "file_extension": ".py",
   "mimetype": "text/x-python",
   "name": "python",
   "nbconvert_exporter": "python",
   "pygments_lexer": "ipython3",
   "version": "3.10.6"
  },
  "vscode": {
   "interpreter": {
    "hash": "a9b7f736565c6cd40b8d49336405822da11305b97b415f12dc2975a61ae6e90d"
   }
  }
 },
 "nbformat": 4,
 "nbformat_minor": 5
}
