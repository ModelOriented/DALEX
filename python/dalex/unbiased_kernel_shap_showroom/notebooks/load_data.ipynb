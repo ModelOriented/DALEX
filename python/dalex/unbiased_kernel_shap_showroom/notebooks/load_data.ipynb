{
 "cells": [
  {
   "cell_type": "code",
   "execution_count": 6,
   "metadata": {},
   "outputs": [],
   "source": [
    "import pandas as pd\n",
    "import numpy as np\n",
    "from pathlib import Path"
   ]
  },
  {
   "cell_type": "code",
   "execution_count": 7,
   "metadata": {},
   "outputs": [],
   "source": [
    "DATA_DIR = Path.cwd().parent / \"estimates\"\n",
    "\n",
    "\n",
    "def load_result(model: str, method: str) -> np.ndarray:\n",
    "    arr = np.load(DATA_DIR / f\"{model}_{method}.npy\", allow_pickle=True)\n",
    "    print(arr.shape)\n",
    "    return arr"
   ]
  },
  {
   "cell_type": "code",
   "execution_count": 8,
   "metadata": {},
   "outputs": [
    {
     "name": "stdout",
     "output_type": "stream",
     "text": [
      "[48.26709557 74.68177319  2.55753422]\n",
      "[315.73649549 541.628793    99.40922451]\n",
      "[[ 68.36794996  70.16046238  71.32849288  71.06542039 129.23967791]\n",
      " [ 82.03080273  81.57967925  79.76588106  80.50075841 161.99366498]\n",
      " [  9.83904243   9.76248479   9.4830935    9.70629406  14.85238791]]\n"
     ]
    }
   ],
   "source": [
    "for name in [\"times_exact.npy\", \"times_kernel.npy\", \"times_uks.npy\"]:\n",
    "    print(np.load(Path.cwd().parent / name, allow_pickle=True))"
   ]
  },
  {
   "cell_type": "code",
   "execution_count": 9,
   "metadata": {},
   "outputs": [],
   "source": [
    "MODELS = [\"random_forest\", \"support_vector_machine\", \"logistic_regression\"]\n",
    "METHODS = [\"10\", \"50\", \"100\", \"500\", \"1000\", \"kernel\", \"exact\"]"
   ]
  },
  {
   "cell_type": "code",
   "execution_count": 10,
   "metadata": {},
   "outputs": [
    {
     "name": "stdout",
     "output_type": "stream",
     "text": [
      "(331,)\n",
      "(331,)\n",
      "(331,)\n",
      "(331,)\n",
      "(331,)\n",
      "(331, 8)\n",
      "(331, 8)\n",
      "(331,)\n",
      "(331,)\n",
      "(331,)\n",
      "(331,)\n",
      "(331,)\n",
      "(331, 8)\n",
      "(331, 8)\n",
      "(331,)\n",
      "(331,)\n",
      "(331,)\n",
      "(331,)\n",
      "(331,)\n",
      "(331, 8)\n",
      "(331, 8)\n"
     ]
    }
   ],
   "source": [
    "for model in MODELS:\n",
    "    for method in METHODS:\n",
    "        load_result(model, method)"
   ]
  },
  {
   "cell_type": "code",
   "execution_count": null,
   "metadata": {},
   "outputs": [],
   "source": []
  }
 ],
 "metadata": {
  "kernelspec": {
   "display_name": "Python 3.7.13 ('dalex')",
   "language": "python",
   "name": "python3"
  },
  "language_info": {
   "codemirror_mode": {
    "name": "ipython",
    "version": 3
   },
   "file_extension": ".py",
   "mimetype": "text/x-python",
   "name": "python",
   "nbconvert_exporter": "python",
   "pygments_lexer": "ipython3",
   "version": "3.7.13"
  },
  "orig_nbformat": 4,
  "vscode": {
   "interpreter": {
    "hash": "a9b7f736565c6cd40b8d49336405822da11305b97b415f12dc2975a61ae6e90d"
   }
  }
 },
 "nbformat": 4,
 "nbformat_minor": 2
}
