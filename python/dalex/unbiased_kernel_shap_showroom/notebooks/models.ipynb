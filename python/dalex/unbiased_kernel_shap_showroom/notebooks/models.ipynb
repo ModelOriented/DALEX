{
 "cells": [
  {
   "cell_type": "code",
   "execution_count": 5,
   "id": "6f85b4e9",
   "metadata": {},
   "outputs": [],
   "source": [
    "from sklearn.svm import SVR\n",
    "from sklearn.ensemble import GradientBoostingRegressor"
   ]
  },
  {
   "cell_type": "code",
   "execution_count": 10,
   "id": "0d1021cc",
   "metadata": {},
   "outputs": [],
   "source": [
    "def create_model(name: str, random_state: int = 446519, kernel: str = 'rbf'):\n",
    "    if name == \"svm\":\n",
    "        if kernel not in ['linear', 'poly', 'rbf', 'sigmoid']:\n",
    "            raise Exception(f\"Invalid kernel type for svm model. Allowed are: 'linear', 'poly', 'rbf' or 'sigmoid'.\")\n",
    "        return SVR(kernel=kernel)\n",
    "    elif name == \"xgboost\":\n",
    "        return GradientBoostingRegressor(random_state=random_state)\n",
    "    else:\n",
    "        raise Exception(f\"Given model name {name} is unavailable. Available options are 'svm' and 'xgboost'.\")"
   ]
  },
  {
   "cell_type": "code",
   "execution_count": null,
   "id": "fefa3dbc",
   "metadata": {},
   "outputs": [],
   "source": []
  }
 ],
 "metadata": {
  "kernelspec": {
   "display_name": "myDalex",
   "language": "python",
   "name": "mydalex"
  },
  "language_info": {
   "codemirror_mode": {
    "name": "ipython",
    "version": 3
   },
   "file_extension": ".py",
   "mimetype": "text/x-python",
   "name": "python",
   "nbconvert_exporter": "python",
   "pygments_lexer": "ipython3",
   "version": "3.7.16"
  }
 },
 "nbformat": 4,
 "nbformat_minor": 5
}
