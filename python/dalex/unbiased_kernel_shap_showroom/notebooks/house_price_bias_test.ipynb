{
 "cells": [
  {
   "cell_type": "code",
   "execution_count": 1,
   "id": "b9b52304",
   "metadata": {},
   "outputs": [],
   "source": [
    "%run models.ipynb\n",
    "%run datasets.ipynb"
   ]
  },
  {
   "cell_type": "code",
   "execution_count": 2,
   "id": "2c8c87f0",
   "metadata": {},
   "outputs": [
    {
     "name": "stderr",
     "output_type": "stream",
     "text": [
      "/home/edsuch21/anaconda3/envs/myDalex/lib/python3.7/site-packages/tqdm/auto.py:22: TqdmWarning: IProgress not found. Please update jupyter and ipywidgets. See https://ipywidgets.readthedocs.io/en/stable/user_install.html\n",
      "  from .autonotebook import tqdm as notebook_tqdm\n"
     ]
    }
   ],
   "source": [
    "import dalex as dx\n",
    "import numpy as np\n",
    "import shap"
   ]
  },
  {
   "cell_type": "code",
   "execution_count": 3,
   "id": "3298f34e",
   "metadata": {},
   "outputs": [],
   "source": [
    "svm = create_model('svm', kernel='rbf')\n",
    "xgboost = create_model('xgboost')"
   ]
  },
  {
   "cell_type": "markdown",
   "id": "8fc9b6f6",
   "metadata": {},
   "source": [
    "## Szacowanie ceny mieszkań"
   ]
  },
  {
   "cell_type": "code",
   "execution_count": 4,
   "id": "7a0dd5f5",
   "metadata": {},
   "outputs": [],
   "source": [
    "X_train, X_test, y_train, y_test = get_test_train('house_price')"
   ]
  },
  {
   "cell_type": "code",
   "execution_count": 5,
   "id": "f75801bf",
   "metadata": {},
   "outputs": [],
   "source": [
    "model_predicting_method = lambda m, d: m.predict(d)"
   ]
  },
  {
   "cell_type": "code",
   "execution_count": 6,
   "id": "9b4a9bb2",
   "metadata": {},
   "outputs": [
    {
     "data": {
      "text/plain": [
       "-0.06435106971744209"
      ]
     },
     "execution_count": 6,
     "metadata": {},
     "output_type": "execute_result"
    }
   ],
   "source": [
    "svm.fit(X_train, y_train)\n",
    "svm.score(X_test, y_test)"
   ]
  },
  {
   "cell_type": "code",
   "execution_count": 7,
   "id": "a19ee27f",
   "metadata": {},
   "outputs": [
    {
     "data": {
      "text/plain": [
       "0.6829726555492395"
      ]
     },
     "execution_count": 7,
     "metadata": {},
     "output_type": "execute_result"
    }
   ],
   "source": [
    "xgboost.fit(X_train, y_train)\n",
    "xgboost.score(X_test, y_test)"
   ]
  },
  {
   "cell_type": "code",
   "execution_count": 8,
   "id": "4d07b592",
   "metadata": {},
   "outputs": [
    {
     "name": "stdout",
     "output_type": "stream",
     "text": [
      "Preparation of a new explainer is initiated\n",
      "\n",
      "  -> data              : 14480 rows 9 cols\n",
      "  -> target variable   : Parameter 'y' was a pandas.Series. Converted to a numpy.ndarray.\n",
      "  -> target variable   : 14480 values\n",
      "  -> model_class       : sklearn.svm._classes.SVR (default)\n",
      "  -> label             : SVM_house_price\n",
      "  -> predict function  : <function <lambda> at 0x7f87e88213b0> will be used\n",
      "  -> predict function  : Accepts pandas.DataFrame and numpy.ndarray.\n"
     ]
    },
    {
     "name": "stderr",
     "output_type": "stream",
     "text": [
      "X does not have valid feature names, but SVR was fitted with feature names\n"
     ]
    },
    {
     "name": "stdout",
     "output_type": "stream",
     "text": [
      "  -> predicted values  : min = 4.5e+05, mean = 4.5e+05, max = 4.5e+05\n",
      "  -> model type        : regression will be used (default)\n",
      "  -> residual function : difference between y and yhat (default)\n",
      "  -> residuals         : min = -3.75e+05, mean = 8.75e+04, max = 7.25e+06\n",
      "  -> model_info        : package sklearn\n",
      "\n",
      "A new explainer has been created!\n",
      "Preparation of a new explainer is initiated\n",
      "\n",
      "  -> data              : 14480 rows 9 cols\n",
      "  -> target variable   : Parameter 'y' was a pandas.Series. Converted to a numpy.ndarray.\n",
      "  -> target variable   : 14480 values\n",
      "  -> model_class       : sklearn.ensemble._gb.GradientBoostingRegressor (default)\n",
      "  -> label             : XGBoost_house_price\n",
      "  -> predict function  : <function <lambda> at 0x7f87e88213b0> will be used\n",
      "  -> predict function  : Accepts pandas.DataFrame and numpy.ndarray.\n",
      "  -> predicted values  : min = 1.91e+05, mean = 5.37e+05, max = 7.57e+06\n",
      "  -> model type        : regression will be used (default)\n",
      "  -> residual function : difference between y and yhat (default)\n",
      "  -> residuals         : min = -1.4e+06, mean = 2.61e-11, max = 1.91e+06\n",
      "  -> model_info        : package sklearn\n",
      "\n",
      "A new explainer has been created!\n"
     ]
    },
    {
     "name": "stderr",
     "output_type": "stream",
     "text": [
      "X does not have valid feature names, but GradientBoostingRegressor was fitted with feature names\n"
     ]
    }
   ],
   "source": [
    "explainer_svm = dx.Explainer(svm, X_train, y_train, predict_function=model_predicting_method, \\\n",
    "                             label=\"SVM_house_price\")\n",
    "explainer_xgboost = dx.Explainer(xgboost, X_train, y_train, predict_function=model_predicting_method, \\\n",
    "                                 label=\"XGBoost_house_price\")"
   ]
  },
  {
   "cell_type": "code",
   "execution_count": null,
   "id": "d56ba7c7",
   "metadata": {},
   "outputs": [
    {
     "name": "stdout",
     "output_type": "stream",
     "text": [
      "0 0\n"
     ]
    },
    {
     "name": "stderr",
     "output_type": "stream",
     "text": [
      "X does not have valid feature names, but GradientBoostingRegressor was fitted with feature names\n",
      "X does not have valid feature names, but GradientBoostingRegressor was fitted with feature names\n",
      "X does not have valid feature names, but SVR was fitted with feature names\n",
      "X does not have valid feature names, but SVR was fitted with feature names\n"
     ]
    }
   ],
   "source": [
    "N = 30\n",
    "nb_of_features = len(X_test.columns)\n",
    "\n",
    "nb_of_samples = [10, 30, 50, 70, 90]\n",
    "contributions_xgboost = np.zeros((len(nb_of_samples), N, nb_of_features))\n",
    "contributions_svm = np.zeros((len(nb_of_samples), N, nb_of_features))\n",
    "\n",
    "for j, samples in enumerate(nb_of_samples):\n",
    "    for i in range(0, N):\n",
    "        print(j, i)\n",
    "        for explainer, contributions in zip([explainer_xgboost, explainer_svm], \\\n",
    "                                            [contributions_xgboost, contributions_svm]):\n",
    "            explain = explainer.predict_parts(X_test.iloc[0:1], type=\"unbiased_kernel_shap\",\n",
    "                                              n_samples = samples, label=f\"sample id: 0\")\n",
    "            contr = explain.result['contribution'].to_numpy()\n",
    "            contributions[j, i, :] = contr"
   ]
  },
  {
   "cell_type": "code",
   "execution_count": null,
   "id": "537a8036",
   "metadata": {},
   "outputs": [],
   "source": [
    "avg_xgboost = np.mean(contributions_xgboost, axis = 1)\n",
    "std_xgboost = np.std(contributions_xgboost, axis = 1)\n",
    "avg_svm = np.mean(contributions_svm, axis = 1)\n",
    "std_svm = np.std(contributions_svm, axis = 1)"
   ]
  },
  {
   "cell_type": "code",
   "execution_count": null,
   "id": "71652d22",
   "metadata": {},
   "outputs": [],
   "source": [
    "exact_explainer_svm = shap.explainers.Exact(svm.predict, X_train)\n",
    "exact_explainer_xgboost = shap.explainers.Exact(xgboost.predict, X_train)\n",
    "\n",
    "exact_shap_result = []\n",
    "for explainer in [exact_explainer_svm, exact_explainer_xgboost]:\n",
    "\n",
    "    shap_values = explainer(X_test.iloc[0:1])\n",
    "\n",
    "    exact_shap_result.append(shap_values.values)"
   ]
  },
  {
   "cell_type": "code",
   "execution_count": null,
   "id": "8b2b821b",
   "metadata": {},
   "outputs": [],
   "source": [
    "svm_error = np.sum(abs(avg_svm - exact_shap_result[0])) / np.sum(exact_shap_result[0])\n",
    "xgboost_error = np.sum(abs(avg_xgboost - exact_shap_result[1])) / np.sum(exact_shap_result[1])"
   ]
  },
  {
   "cell_type": "code",
   "execution_count": null,
   "id": "c788bd47",
   "metadata": {},
   "outputs": [],
   "source": [
    "#czy można uśrednić std? czy to matematyczne brednie?"
   ]
  },
  {
   "cell_type": "code",
   "execution_count": 6,
   "id": "5c2b0302",
   "metadata": {},
   "outputs": [
    {
     "data": {
      "text/plain": [
       "<matplotlib.collections.PathCollection at 0x7f11b85c0690>"
      ]
     },
     "execution_count": 6,
     "metadata": {},
     "output_type": "execute_result"
    },
    {
     "data": {
      "image/png": "[encoded data removed]",
      "text/plain": [
       "<Figure size 432x288 with 1 Axes>"
      ]
     },
     "metadata": {
      "needs_background": "light"
     },
     "output_type": "display_data"
    }
   ],
   "source": [
    "from matplotlib import pyplot as plt\n",
    "\n",
    "plt.scatter(nb_of_samples, xgboost_error)"
   ]
  }
 ],
 "metadata": {
  "kernelspec": {
   "display_name": "myDalex",
   "language": "python",
   "name": "mydalex"
  },
  "language_info": {
   "codemirror_mode": {
    "name": "ipython",
    "version": 3
   },
   "file_extension": ".py",
   "mimetype": "text/x-python",
   "name": "python",
   "nbconvert_exporter": "python",
   "pygments_lexer": "ipython3",
   "version": "3.7.16"
  }
 },
 "nbformat": 4,
 "nbformat_minor": 5
}
