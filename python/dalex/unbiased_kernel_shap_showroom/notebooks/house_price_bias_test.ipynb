{
 "cells": [
  {
   "cell_type": "code",
   "execution_count": 1,
   "id": "b9b52304",
   "metadata": {},
   "outputs": [],
   "source": [
    "%run models.ipynb\n",
    "%run datasets.ipynb"
   ]
  },
  {
   "cell_type": "code",
   "execution_count": 13,
   "id": "2c8c87f0",
   "metadata": {},
   "outputs": [
    {
     "name": "stderr",
     "output_type": "stream",
     "text": [
      "/home/edsuch21/anaconda3/envs/myDalex/lib/python3.7/site-packages/tqdm/auto.py:22: TqdmWarning: IProgress not found. Please update jupyter and ipywidgets. See https://ipywidgets.readthedocs.io/en/stable/user_install.html\n",
      "  from .autonotebook import tqdm as notebook_tqdm\n"
     ]
    }
   ],
   "source": [
    "import dalex as dx\n",
    "import numpy as np\n",
    "import shap"
   ]
  },
  {
   "cell_type": "code",
   "execution_count": 3,
   "id": "3298f34e",
   "metadata": {},
   "outputs": [],
   "source": [
    "svm = create_model('svm', kernel='linear')\n",
    "xgboost = create_model('xgboost')"
   ]
  },
  {
   "cell_type": "markdown",
   "id": "8fc9b6f6",
   "metadata": {},
   "source": [
    "## Szacowanie ceny mieszkań"
   ]
  },
  {
   "cell_type": "code",
   "execution_count": 4,
   "id": "7a0dd5f5",
   "metadata": {},
   "outputs": [],
   "source": [
    "X_train, X_test, y_train, y_test = get_test_train('house_price')"
   ]
  },
  {
   "cell_type": "code",
   "execution_count": 5,
   "id": "f75801bf",
   "metadata": {},
   "outputs": [],
   "source": [
    "model_predicting_method = lambda m, d: m.predict(d)"
   ]
  },
  {
   "cell_type": "code",
   "execution_count": 6,
   "id": "9b4a9bb2",
   "metadata": {},
   "outputs": [
    {
     "data": {
      "text/plain": [
       "0.4950936198067202"
      ]
     },
     "execution_count": 6,
     "metadata": {},
     "output_type": "execute_result"
    }
   ],
   "source": [
    "svm.fit(X_train, y_train)\n",
    "svm.score(X_test, y_test)"
   ]
  },
  {
   "cell_type": "code",
   "execution_count": 7,
   "id": "a19ee27f",
   "metadata": {},
   "outputs": [
    {
     "data": {
      "text/plain": [
       "0.6829726555492395"
      ]
     },
     "execution_count": 7,
     "metadata": {},
     "output_type": "execute_result"
    }
   ],
   "source": [
    "xgboost.fit(X_train, y_train)\n",
    "xgboost.score(X_test, y_test)"
   ]
  },
  {
   "cell_type": "code",
   "execution_count": 8,
   "id": "4d07b592",
   "metadata": {
    "collapsed": true
   },
   "outputs": [
    {
     "name": "stdout",
     "output_type": "stream",
     "text": [
      "Preparation of a new explainer is initiated\n",
      "\n",
      "  -> data              : 14480 rows 9 cols\n",
      "  -> target variable   : Parameter 'y' was a pandas.Series. Converted to a numpy.ndarray.\n",
      "  -> target variable   : 14480 values\n",
      "  -> model_class       : sklearn.svm._classes.SVR (default)\n",
      "  -> label             : SVM_house_price\n",
      "  -> predict function  : <function <lambda> at 0x7f4f00a9db90> will be used\n",
      "  -> predict function  : Accepts pandas.DataFrame and numpy.ndarray.\n"
     ]
    },
    {
     "name": "stderr",
     "output_type": "stream",
     "text": [
      "/home/edsuch21/anaconda3/envs/myDalex/lib/python3.7/site-packages/sklearn/base.py:451: UserWarning: X does not have valid feature names, but SVR was fitted with feature names\n",
      "  \"X does not have valid feature names, but\"\n"
     ]
    },
    {
     "name": "stdout",
     "output_type": "stream",
     "text": [
      "  -> predicted values  : min = -1.63e+03, mean = 5.06e+05, max = 3.1e+06\n",
      "  -> model type        : regression will be used (default)\n",
      "  -> residual function : difference between y and yhat (default)\n",
      "  -> residuals         : min = -8.19e+05, mean = 3.19e+04, max = 4.72e+06\n",
      "  -> model_info        : package sklearn\n",
      "\n",
      "A new explainer has been created!\n",
      "Preparation of a new explainer is initiated\n",
      "\n",
      "  -> data              : 14480 rows 9 cols\n",
      "  -> target variable   : Parameter 'y' was a pandas.Series. Converted to a numpy.ndarray.\n",
      "  -> target variable   : 14480 values\n",
      "  -> model_class       : sklearn.ensemble._gb.GradientBoostingRegressor (default)\n",
      "  -> label             : XGBoost_house_price\n",
      "  -> predict function  : <function <lambda> at 0x7f4f00a9db90> will be used\n",
      "  -> predict function  : Accepts pandas.DataFrame and numpy.ndarray.\n",
      "  -> predicted values  : min = 1.91e+05, mean = 5.37e+05, max = 7.57e+06\n",
      "  -> model type        : regression will be used (default)\n",
      "  -> residual function : difference between y and yhat (default)\n",
      "  -> residuals         : min = -1.4e+06, mean = 2.61e-11, max = 1.91e+06\n",
      "  -> model_info        : package sklearn\n",
      "\n",
      "A new explainer has been created!\n"
     ]
    },
    {
     "name": "stderr",
     "output_type": "stream",
     "text": [
      "/home/edsuch21/anaconda3/envs/myDalex/lib/python3.7/site-packages/sklearn/base.py:451: UserWarning: X does not have valid feature names, but GradientBoostingRegressor was fitted with feature names\n",
      "  \"X does not have valid feature names, but\"\n"
     ]
    }
   ],
   "source": [
    "explainer_svm = dx.Explainer(svm, X_train, y_train, predict_function=model_predicting_method, \\\n",
    "                             label=\"SVM_house_price\")\n",
    "explainer_xgboost = dx.Explainer(xgboost, X_train, y_train, predict_function=model_predicting_method, \\\n",
    "                                 label=\"XGBoost_house_price\")"
   ]
  },
  {
   "cell_type": "code",
   "execution_count": 46,
   "id": "d56ba7c7",
   "metadata": {},
   "outputs": [
    {
     "name": "stderr",
     "output_type": "stream",
     "text": [
      "X does not have valid feature names, but GradientBoostingRegressor was fitted with feature names\n",
      "X does not have valid feature names, but GradientBoostingRegressor was fitted with feature names\n",
      "X does not have valid feature names, but SVR was fitted with feature names\n",
      "X does not have valid feature names, but SVR was fitted with feature names\n",
      "X does not have valid feature names, but GradientBoostingRegressor was fitted with feature names\n",
      "X does not have valid feature names, but GradientBoostingRegressor was fitted with feature names\n",
      "X does not have valid feature names, but SVR was fitted with feature names\n",
      "X does not have valid feature names, but SVR was fitted with feature names\n",
      "X does not have valid feature names, but GradientBoostingRegressor was fitted with feature names\n",
      "X does not have valid feature names, but GradientBoostingRegressor was fitted with feature names\n",
      "X does not have valid feature names, but SVR was fitted with feature names\n",
      "X does not have valid feature names, but SVR was fitted with feature names\n",
      "X does not have valid feature names, but GradientBoostingRegressor was fitted with feature names\n",
      "X does not have valid feature names, but GradientBoostingRegressor was fitted with feature names\n",
      "X does not have valid feature names, but SVR was fitted with feature names\n",
      "X does not have valid feature names, but SVR was fitted with feature names\n",
      "X does not have valid feature names, but GradientBoostingRegressor was fitted with feature names\n",
      "X does not have valid feature names, but GradientBoostingRegressor was fitted with feature names\n",
      "X does not have valid feature names, but SVR was fitted with feature names\n",
      "X does not have valid feature names, but SVR was fitted with feature names\n",
      "X does not have valid feature names, but GradientBoostingRegressor was fitted with feature names\n",
      "X does not have valid feature names, but GradientBoostingRegressor was fitted with feature names\n",
      "X does not have valid feature names, but SVR was fitted with feature names\n",
      "X does not have valid feature names, but SVR was fitted with feature names\n",
      "X does not have valid feature names, but GradientBoostingRegressor was fitted with feature names\n",
      "X does not have valid feature names, but GradientBoostingRegressor was fitted with feature names\n",
      "X does not have valid feature names, but SVR was fitted with feature names\n",
      "X does not have valid feature names, but SVR was fitted with feature names\n",
      "X does not have valid feature names, but GradientBoostingRegressor was fitted with feature names\n",
      "X does not have valid feature names, but GradientBoostingRegressor was fitted with feature names\n",
      "X does not have valid feature names, but SVR was fitted with feature names\n",
      "X does not have valid feature names, but SVR was fitted with feature names\n",
      "X does not have valid feature names, but GradientBoostingRegressor was fitted with feature names\n",
      "X does not have valid feature names, but GradientBoostingRegressor was fitted with feature names\n",
      "X does not have valid feature names, but SVR was fitted with feature names\n",
      "X does not have valid feature names, but SVR was fitted with feature names\n",
      "X does not have valid feature names, but GradientBoostingRegressor was fitted with feature names\n",
      "X does not have valid feature names, but GradientBoostingRegressor was fitted with feature names\n",
      "X does not have valid feature names, but SVR was fitted with feature names\n",
      "X does not have valid feature names, but SVR was fitted with feature names\n",
      "X does not have valid feature names, but GradientBoostingRegressor was fitted with feature names\n",
      "X does not have valid feature names, but GradientBoostingRegressor was fitted with feature names\n",
      "X does not have valid feature names, but SVR was fitted with feature names\n",
      "X does not have valid feature names, but SVR was fitted with feature names\n",
      "X does not have valid feature names, but GradientBoostingRegressor was fitted with feature names\n",
      "X does not have valid feature names, but GradientBoostingRegressor was fitted with feature names\n",
      "X does not have valid feature names, but SVR was fitted with feature names\n",
      "X does not have valid feature names, but SVR was fitted with feature names\n",
      "X does not have valid feature names, but GradientBoostingRegressor was fitted with feature names\n",
      "X does not have valid feature names, but GradientBoostingRegressor was fitted with feature names\n",
      "X does not have valid feature names, but SVR was fitted with feature names\n",
      "X does not have valid feature names, but SVR was fitted with feature names\n",
      "X does not have valid feature names, but GradientBoostingRegressor was fitted with feature names\n",
      "X does not have valid feature names, but GradientBoostingRegressor was fitted with feature names\n",
      "X does not have valid feature names, but SVR was fitted with feature names\n",
      "X does not have valid feature names, but SVR was fitted with feature names\n",
      "X does not have valid feature names, but GradientBoostingRegressor was fitted with feature names\n",
      "X does not have valid feature names, but GradientBoostingRegressor was fitted with feature names\n",
      "X does not have valid feature names, but SVR was fitted with feature names\n",
      "X does not have valid feature names, but SVR was fitted with feature names\n",
      "X does not have valid feature names, but GradientBoostingRegressor was fitted with feature names\n",
      "X does not have valid feature names, but GradientBoostingRegressor was fitted with feature names\n",
      "X does not have valid feature names, but SVR was fitted with feature names\n",
      "X does not have valid feature names, but SVR was fitted with feature names\n",
      "X does not have valid feature names, but GradientBoostingRegressor was fitted with feature names\n",
      "X does not have valid feature names, but GradientBoostingRegressor was fitted with feature names\n",
      "X does not have valid feature names, but SVR was fitted with feature names\n",
      "X does not have valid feature names, but SVR was fitted with feature names\n",
      "X does not have valid feature names, but GradientBoostingRegressor was fitted with feature names\n",
      "X does not have valid feature names, but GradientBoostingRegressor was fitted with feature names\n",
      "X does not have valid feature names, but SVR was fitted with feature names\n",
      "X does not have valid feature names, but SVR was fitted with feature names\n",
      "X does not have valid feature names, but GradientBoostingRegressor was fitted with feature names\n",
      "X does not have valid feature names, but GradientBoostingRegressor was fitted with feature names\n",
      "X does not have valid feature names, but SVR was fitted with feature names\n",
      "X does not have valid feature names, but SVR was fitted with feature names\n",
      "X does not have valid feature names, but GradientBoostingRegressor was fitted with feature names\n",
      "X does not have valid feature names, but GradientBoostingRegressor was fitted with feature names\n",
      "X does not have valid feature names, but SVR was fitted with feature names\n",
      "X does not have valid feature names, but SVR was fitted with feature names\n",
      "X does not have valid feature names, but GradientBoostingRegressor was fitted with feature names\n",
      "X does not have valid feature names, but GradientBoostingRegressor was fitted with feature names\n",
      "X does not have valid feature names, but SVR was fitted with feature names\n",
      "X does not have valid feature names, but SVR was fitted with feature names\n",
      "X does not have valid feature names, but GradientBoostingRegressor was fitted with feature names\n",
      "X does not have valid feature names, but GradientBoostingRegressor was fitted with feature names\n",
      "X does not have valid feature names, but SVR was fitted with feature names\n",
      "X does not have valid feature names, but SVR was fitted with feature names\n",
      "X does not have valid feature names, but GradientBoostingRegressor was fitted with feature names\n",
      "X does not have valid feature names, but GradientBoostingRegressor was fitted with feature names\n",
      "X does not have valid feature names, but SVR was fitted with feature names\n",
      "X does not have valid feature names, but SVR was fitted with feature names\n",
      "X does not have valid feature names, but GradientBoostingRegressor was fitted with feature names\n",
      "X does not have valid feature names, but GradientBoostingRegressor was fitted with feature names\n",
      "X does not have valid feature names, but SVR was fitted with feature names\n",
      "X does not have valid feature names, but SVR was fitted with feature names\n"
     ]
    },
    {
     "name": "stderr",
     "output_type": "stream",
     "text": [
      "X does not have valid feature names, but GradientBoostingRegressor was fitted with feature names\n",
      "X does not have valid feature names, but GradientBoostingRegressor was fitted with feature names\n",
      "X does not have valid feature names, but SVR was fitted with feature names\n",
      "X does not have valid feature names, but SVR was fitted with feature names\n",
      "X does not have valid feature names, but GradientBoostingRegressor was fitted with feature names\n",
      "X does not have valid feature names, but GradientBoostingRegressor was fitted with feature names\n",
      "X does not have valid feature names, but SVR was fitted with feature names\n",
      "X does not have valid feature names, but SVR was fitted with feature names\n",
      "X does not have valid feature names, but GradientBoostingRegressor was fitted with feature names\n",
      "X does not have valid feature names, but GradientBoostingRegressor was fitted with feature names\n",
      "X does not have valid feature names, but SVR was fitted with feature names\n",
      "X does not have valid feature names, but SVR was fitted with feature names\n",
      "X does not have valid feature names, but GradientBoostingRegressor was fitted with feature names\n",
      "X does not have valid feature names, but GradientBoostingRegressor was fitted with feature names\n",
      "X does not have valid feature names, but SVR was fitted with feature names\n",
      "X does not have valid feature names, but SVR was fitted with feature names\n",
      "X does not have valid feature names, but GradientBoostingRegressor was fitted with feature names\n",
      "X does not have valid feature names, but GradientBoostingRegressor was fitted with feature names\n",
      "X does not have valid feature names, but SVR was fitted with feature names\n",
      "X does not have valid feature names, but SVR was fitted with feature names\n",
      "X does not have valid feature names, but GradientBoostingRegressor was fitted with feature names\n",
      "X does not have valid feature names, but GradientBoostingRegressor was fitted with feature names\n",
      "X does not have valid feature names, but SVR was fitted with feature names\n",
      "X does not have valid feature names, but SVR was fitted with feature names\n",
      "X does not have valid feature names, but GradientBoostingRegressor was fitted with feature names\n",
      "X does not have valid feature names, but GradientBoostingRegressor was fitted with feature names\n",
      "X does not have valid feature names, but SVR was fitted with feature names\n",
      "X does not have valid feature names, but SVR was fitted with feature names\n",
      "X does not have valid feature names, but GradientBoostingRegressor was fitted with feature names\n",
      "X does not have valid feature names, but GradientBoostingRegressor was fitted with feature names\n",
      "X does not have valid feature names, but SVR was fitted with feature names\n",
      "X does not have valid feature names, but SVR was fitted with feature names\n",
      "X does not have valid feature names, but GradientBoostingRegressor was fitted with feature names\n",
      "X does not have valid feature names, but GradientBoostingRegressor was fitted with feature names\n",
      "X does not have valid feature names, but SVR was fitted with feature names\n",
      "X does not have valid feature names, but SVR was fitted with feature names\n",
      "X does not have valid feature names, but GradientBoostingRegressor was fitted with feature names\n",
      "X does not have valid feature names, but GradientBoostingRegressor was fitted with feature names\n",
      "X does not have valid feature names, but SVR was fitted with feature names\n",
      "X does not have valid feature names, but SVR was fitted with feature names\n",
      "X does not have valid feature names, but GradientBoostingRegressor was fitted with feature names\n",
      "X does not have valid feature names, but GradientBoostingRegressor was fitted with feature names\n",
      "X does not have valid feature names, but SVR was fitted with feature names\n",
      "X does not have valid feature names, but SVR was fitted with feature names\n",
      "X does not have valid feature names, but GradientBoostingRegressor was fitted with feature names\n",
      "X does not have valid feature names, but GradientBoostingRegressor was fitted with feature names\n",
      "X does not have valid feature names, but SVR was fitted with feature names\n",
      "X does not have valid feature names, but SVR was fitted with feature names\n",
      "X does not have valid feature names, but GradientBoostingRegressor was fitted with feature names\n",
      "X does not have valid feature names, but GradientBoostingRegressor was fitted with feature names\n",
      "X does not have valid feature names, but SVR was fitted with feature names\n",
      "X does not have valid feature names, but SVR was fitted with feature names\n",
      "X does not have valid feature names, but GradientBoostingRegressor was fitted with feature names\n",
      "X does not have valid feature names, but GradientBoostingRegressor was fitted with feature names\n",
      "X does not have valid feature names, but SVR was fitted with feature names\n",
      "X does not have valid feature names, but SVR was fitted with feature names\n",
      "X does not have valid feature names, but GradientBoostingRegressor was fitted with feature names\n",
      "X does not have valid feature names, but GradientBoostingRegressor was fitted with feature names\n",
      "X does not have valid feature names, but SVR was fitted with feature names\n",
      "X does not have valid feature names, but SVR was fitted with feature names\n",
      "X does not have valid feature names, but GradientBoostingRegressor was fitted with feature names\n",
      "X does not have valid feature names, but GradientBoostingRegressor was fitted with feature names\n",
      "X does not have valid feature names, but SVR was fitted with feature names\n",
      "X does not have valid feature names, but SVR was fitted with feature names\n",
      "X does not have valid feature names, but GradientBoostingRegressor was fitted with feature names\n",
      "X does not have valid feature names, but GradientBoostingRegressor was fitted with feature names\n",
      "X does not have valid feature names, but SVR was fitted with feature names\n",
      "X does not have valid feature names, but SVR was fitted with feature names\n",
      "X does not have valid feature names, but GradientBoostingRegressor was fitted with feature names\n",
      "X does not have valid feature names, but GradientBoostingRegressor was fitted with feature names\n",
      "X does not have valid feature names, but SVR was fitted with feature names\n",
      "X does not have valid feature names, but SVR was fitted with feature names\n",
      "X does not have valid feature names, but GradientBoostingRegressor was fitted with feature names\n",
      "X does not have valid feature names, but GradientBoostingRegressor was fitted with feature names\n",
      "X does not have valid feature names, but SVR was fitted with feature names\n",
      "X does not have valid feature names, but SVR was fitted with feature names\n",
      "X does not have valid feature names, but GradientBoostingRegressor was fitted with feature names\n",
      "X does not have valid feature names, but GradientBoostingRegressor was fitted with feature names\n",
      "X does not have valid feature names, but SVR was fitted with feature names\n",
      "X does not have valid feature names, but SVR was fitted with feature names\n",
      "X does not have valid feature names, but GradientBoostingRegressor was fitted with feature names\n",
      "X does not have valid feature names, but GradientBoostingRegressor was fitted with feature names\n",
      "X does not have valid feature names, but SVR was fitted with feature names\n",
      "X does not have valid feature names, but SVR was fitted with feature names\n",
      "X does not have valid feature names, but GradientBoostingRegressor was fitted with feature names\n",
      "X does not have valid feature names, but GradientBoostingRegressor was fitted with feature names\n",
      "X does not have valid feature names, but SVR was fitted with feature names\n",
      "X does not have valid feature names, but SVR was fitted with feature names\n",
      "X does not have valid feature names, but GradientBoostingRegressor was fitted with feature names\n",
      "X does not have valid feature names, but GradientBoostingRegressor was fitted with feature names\n",
      "X does not have valid feature names, but SVR was fitted with feature names\n",
      "X does not have valid feature names, but SVR was fitted with feature names\n",
      "X does not have valid feature names, but GradientBoostingRegressor was fitted with feature names\n",
      "X does not have valid feature names, but GradientBoostingRegressor was fitted with feature names\n",
      "X does not have valid feature names, but SVR was fitted with feature names\n",
      "X does not have valid feature names, but SVR was fitted with feature names\n"
     ]
    },
    {
     "name": "stderr",
     "output_type": "stream",
     "text": [
      "X does not have valid feature names, but GradientBoostingRegressor was fitted with feature names\n",
      "X does not have valid feature names, but GradientBoostingRegressor was fitted with feature names\n",
      "X does not have valid feature names, but SVR was fitted with feature names\n",
      "X does not have valid feature names, but SVR was fitted with feature names\n",
      "X does not have valid feature names, but GradientBoostingRegressor was fitted with feature names\n",
      "X does not have valid feature names, but GradientBoostingRegressor was fitted with feature names\n",
      "X does not have valid feature names, but SVR was fitted with feature names\n",
      "X does not have valid feature names, but SVR was fitted with feature names\n",
      "X does not have valid feature names, but GradientBoostingRegressor was fitted with feature names\n",
      "X does not have valid feature names, but GradientBoostingRegressor was fitted with feature names\n",
      "X does not have valid feature names, but SVR was fitted with feature names\n",
      "X does not have valid feature names, but SVR was fitted with feature names\n",
      "X does not have valid feature names, but GradientBoostingRegressor was fitted with feature names\n",
      "X does not have valid feature names, but GradientBoostingRegressor was fitted with feature names\n",
      "X does not have valid feature names, but SVR was fitted with feature names\n",
      "X does not have valid feature names, but SVR was fitted with feature names\n",
      "X does not have valid feature names, but GradientBoostingRegressor was fitted with feature names\n",
      "X does not have valid feature names, but GradientBoostingRegressor was fitted with feature names\n",
      "X does not have valid feature names, but SVR was fitted with feature names\n",
      "X does not have valid feature names, but SVR was fitted with feature names\n",
      "X does not have valid feature names, but GradientBoostingRegressor was fitted with feature names\n",
      "X does not have valid feature names, but GradientBoostingRegressor was fitted with feature names\n",
      "X does not have valid feature names, but SVR was fitted with feature names\n",
      "X does not have valid feature names, but SVR was fitted with feature names\n",
      "X does not have valid feature names, but GradientBoostingRegressor was fitted with feature names\n",
      "X does not have valid feature names, but GradientBoostingRegressor was fitted with feature names\n",
      "X does not have valid feature names, but SVR was fitted with feature names\n",
      "X does not have valid feature names, but SVR was fitted with feature names\n",
      "X does not have valid feature names, but GradientBoostingRegressor was fitted with feature names\n",
      "X does not have valid feature names, but GradientBoostingRegressor was fitted with feature names\n",
      "X does not have valid feature names, but SVR was fitted with feature names\n",
      "X does not have valid feature names, but SVR was fitted with feature names\n",
      "X does not have valid feature names, but GradientBoostingRegressor was fitted with feature names\n",
      "X does not have valid feature names, but GradientBoostingRegressor was fitted with feature names\n",
      "X does not have valid feature names, but SVR was fitted with feature names\n",
      "X does not have valid feature names, but SVR was fitted with feature names\n",
      "X does not have valid feature names, but GradientBoostingRegressor was fitted with feature names\n",
      "X does not have valid feature names, but GradientBoostingRegressor was fitted with feature names\n",
      "X does not have valid feature names, but SVR was fitted with feature names\n",
      "X does not have valid feature names, but SVR was fitted with feature names\n",
      "X does not have valid feature names, but GradientBoostingRegressor was fitted with feature names\n",
      "X does not have valid feature names, but GradientBoostingRegressor was fitted with feature names\n",
      "X does not have valid feature names, but SVR was fitted with feature names\n",
      "X does not have valid feature names, but SVR was fitted with feature names\n",
      "X does not have valid feature names, but GradientBoostingRegressor was fitted with feature names\n",
      "X does not have valid feature names, but GradientBoostingRegressor was fitted with feature names\n",
      "X does not have valid feature names, but SVR was fitted with feature names\n",
      "X does not have valid feature names, but SVR was fitted with feature names\n",
      "X does not have valid feature names, but GradientBoostingRegressor was fitted with feature names\n",
      "X does not have valid feature names, but GradientBoostingRegressor was fitted with feature names\n",
      "X does not have valid feature names, but SVR was fitted with feature names\n",
      "X does not have valid feature names, but SVR was fitted with feature names\n",
      "X does not have valid feature names, but GradientBoostingRegressor was fitted with feature names\n",
      "X does not have valid feature names, but GradientBoostingRegressor was fitted with feature names\n",
      "X does not have valid feature names, but SVR was fitted with feature names\n",
      "X does not have valid feature names, but SVR was fitted with feature names\n",
      "X does not have valid feature names, but GradientBoostingRegressor was fitted with feature names\n",
      "X does not have valid feature names, but GradientBoostingRegressor was fitted with feature names\n",
      "X does not have valid feature names, but SVR was fitted with feature names\n",
      "X does not have valid feature names, but SVR was fitted with feature names\n",
      "X does not have valid feature names, but GradientBoostingRegressor was fitted with feature names\n",
      "X does not have valid feature names, but GradientBoostingRegressor was fitted with feature names\n",
      "X does not have valid feature names, but SVR was fitted with feature names\n",
      "X does not have valid feature names, but SVR was fitted with feature names\n",
      "X does not have valid feature names, but GradientBoostingRegressor was fitted with feature names\n",
      "X does not have valid feature names, but GradientBoostingRegressor was fitted with feature names\n",
      "X does not have valid feature names, but SVR was fitted with feature names\n",
      "X does not have valid feature names, but SVR was fitted with feature names\n",
      "X does not have valid feature names, but GradientBoostingRegressor was fitted with feature names\n",
      "X does not have valid feature names, but GradientBoostingRegressor was fitted with feature names\n",
      "X does not have valid feature names, but SVR was fitted with feature names\n",
      "X does not have valid feature names, but SVR was fitted with feature names\n",
      "X does not have valid feature names, but GradientBoostingRegressor was fitted with feature names\n",
      "X does not have valid feature names, but GradientBoostingRegressor was fitted with feature names\n",
      "X does not have valid feature names, but SVR was fitted with feature names\n",
      "X does not have valid feature names, but SVR was fitted with feature names\n",
      "X does not have valid feature names, but GradientBoostingRegressor was fitted with feature names\n",
      "X does not have valid feature names, but GradientBoostingRegressor was fitted with feature names\n",
      "X does not have valid feature names, but SVR was fitted with feature names\n",
      "X does not have valid feature names, but SVR was fitted with feature names\n",
      "X does not have valid feature names, but GradientBoostingRegressor was fitted with feature names\n",
      "X does not have valid feature names, but GradientBoostingRegressor was fitted with feature names\n",
      "X does not have valid feature names, but SVR was fitted with feature names\n",
      "X does not have valid feature names, but SVR was fitted with feature names\n",
      "X does not have valid feature names, but GradientBoostingRegressor was fitted with feature names\n",
      "X does not have valid feature names, but GradientBoostingRegressor was fitted with feature names\n",
      "X does not have valid feature names, but SVR was fitted with feature names\n",
      "X does not have valid feature names, but SVR was fitted with feature names\n",
      "X does not have valid feature names, but GradientBoostingRegressor was fitted with feature names\n",
      "X does not have valid feature names, but GradientBoostingRegressor was fitted with feature names\n",
      "X does not have valid feature names, but SVR was fitted with feature names\n",
      "X does not have valid feature names, but SVR was fitted with feature names\n",
      "X does not have valid feature names, but GradientBoostingRegressor was fitted with feature names\n",
      "X does not have valid feature names, but GradientBoostingRegressor was fitted with feature names\n",
      "X does not have valid feature names, but SVR was fitted with feature names\n",
      "X does not have valid feature names, but SVR was fitted with feature names\n"
     ]
    },
    {
     "name": "stderr",
     "output_type": "stream",
     "text": [
      "X does not have valid feature names, but GradientBoostingRegressor was fitted with feature names\n",
      "X does not have valid feature names, but GradientBoostingRegressor was fitted with feature names\n",
      "X does not have valid feature names, but SVR was fitted with feature names\n",
      "X does not have valid feature names, but SVR was fitted with feature names\n",
      "X does not have valid feature names, but GradientBoostingRegressor was fitted with feature names\n",
      "X does not have valid feature names, but GradientBoostingRegressor was fitted with feature names\n",
      "X does not have valid feature names, but SVR was fitted with feature names\n",
      "X does not have valid feature names, but SVR was fitted with feature names\n",
      "X does not have valid feature names, but GradientBoostingRegressor was fitted with feature names\n",
      "X does not have valid feature names, but GradientBoostingRegressor was fitted with feature names\n",
      "X does not have valid feature names, but SVR was fitted with feature names\n",
      "X does not have valid feature names, but SVR was fitted with feature names\n",
      "X does not have valid feature names, but GradientBoostingRegressor was fitted with feature names\n",
      "X does not have valid feature names, but GradientBoostingRegressor was fitted with feature names\n",
      "X does not have valid feature names, but SVR was fitted with feature names\n",
      "X does not have valid feature names, but SVR was fitted with feature names\n",
      "X does not have valid feature names, but GradientBoostingRegressor was fitted with feature names\n",
      "X does not have valid feature names, but GradientBoostingRegressor was fitted with feature names\n",
      "X does not have valid feature names, but SVR was fitted with feature names\n",
      "X does not have valid feature names, but SVR was fitted with feature names\n",
      "X does not have valid feature names, but GradientBoostingRegressor was fitted with feature names\n",
      "X does not have valid feature names, but GradientBoostingRegressor was fitted with feature names\n",
      "X does not have valid feature names, but SVR was fitted with feature names\n",
      "X does not have valid feature names, but SVR was fitted with feature names\n",
      "X does not have valid feature names, but GradientBoostingRegressor was fitted with feature names\n",
      "X does not have valid feature names, but GradientBoostingRegressor was fitted with feature names\n",
      "X does not have valid feature names, but SVR was fitted with feature names\n",
      "X does not have valid feature names, but SVR was fitted with feature names\n",
      "X does not have valid feature names, but GradientBoostingRegressor was fitted with feature names\n",
      "X does not have valid feature names, but GradientBoostingRegressor was fitted with feature names\n",
      "X does not have valid feature names, but SVR was fitted with feature names\n",
      "X does not have valid feature names, but SVR was fitted with feature names\n",
      "X does not have valid feature names, but GradientBoostingRegressor was fitted with feature names\n",
      "X does not have valid feature names, but GradientBoostingRegressor was fitted with feature names\n",
      "X does not have valid feature names, but SVR was fitted with feature names\n",
      "X does not have valid feature names, but SVR was fitted with feature names\n",
      "X does not have valid feature names, but GradientBoostingRegressor was fitted with feature names\n",
      "X does not have valid feature names, but GradientBoostingRegressor was fitted with feature names\n",
      "X does not have valid feature names, but SVR was fitted with feature names\n",
      "X does not have valid feature names, but SVR was fitted with feature names\n",
      "X does not have valid feature names, but GradientBoostingRegressor was fitted with feature names\n",
      "X does not have valid feature names, but GradientBoostingRegressor was fitted with feature names\n",
      "X does not have valid feature names, but SVR was fitted with feature names\n",
      "X does not have valid feature names, but SVR was fitted with feature names\n",
      "X does not have valid feature names, but GradientBoostingRegressor was fitted with feature names\n",
      "X does not have valid feature names, but GradientBoostingRegressor was fitted with feature names\n",
      "X does not have valid feature names, but SVR was fitted with feature names\n",
      "X does not have valid feature names, but SVR was fitted with feature names\n",
      "X does not have valid feature names, but GradientBoostingRegressor was fitted with feature names\n",
      "X does not have valid feature names, but GradientBoostingRegressor was fitted with feature names\n",
      "X does not have valid feature names, but SVR was fitted with feature names\n",
      "X does not have valid feature names, but SVR was fitted with feature names\n",
      "X does not have valid feature names, but GradientBoostingRegressor was fitted with feature names\n",
      "X does not have valid feature names, but GradientBoostingRegressor was fitted with feature names\n",
      "X does not have valid feature names, but SVR was fitted with feature names\n",
      "X does not have valid feature names, but SVR was fitted with feature names\n",
      "X does not have valid feature names, but GradientBoostingRegressor was fitted with feature names\n",
      "X does not have valid feature names, but GradientBoostingRegressor was fitted with feature names\n",
      "X does not have valid feature names, but SVR was fitted with feature names\n",
      "X does not have valid feature names, but SVR was fitted with feature names\n",
      "X does not have valid feature names, but GradientBoostingRegressor was fitted with feature names\n",
      "X does not have valid feature names, but GradientBoostingRegressor was fitted with feature names\n",
      "X does not have valid feature names, but SVR was fitted with feature names\n",
      "X does not have valid feature names, but SVR was fitted with feature names\n",
      "X does not have valid feature names, but GradientBoostingRegressor was fitted with feature names\n",
      "X does not have valid feature names, but GradientBoostingRegressor was fitted with feature names\n",
      "X does not have valid feature names, but SVR was fitted with feature names\n",
      "X does not have valid feature names, but SVR was fitted with feature names\n",
      "X does not have valid feature names, but GradientBoostingRegressor was fitted with feature names\n",
      "X does not have valid feature names, but GradientBoostingRegressor was fitted with feature names\n",
      "X does not have valid feature names, but SVR was fitted with feature names\n",
      "X does not have valid feature names, but SVR was fitted with feature names\n",
      "X does not have valid feature names, but GradientBoostingRegressor was fitted with feature names\n",
      "X does not have valid feature names, but GradientBoostingRegressor was fitted with feature names\n",
      "X does not have valid feature names, but SVR was fitted with feature names\n",
      "X does not have valid feature names, but SVR was fitted with feature names\n",
      "X does not have valid feature names, but GradientBoostingRegressor was fitted with feature names\n",
      "X does not have valid feature names, but GradientBoostingRegressor was fitted with feature names\n",
      "X does not have valid feature names, but SVR was fitted with feature names\n",
      "X does not have valid feature names, but SVR was fitted with feature names\n",
      "X does not have valid feature names, but GradientBoostingRegressor was fitted with feature names\n",
      "X does not have valid feature names, but GradientBoostingRegressor was fitted with feature names\n",
      "X does not have valid feature names, but SVR was fitted with feature names\n",
      "X does not have valid feature names, but SVR was fitted with feature names\n",
      "X does not have valid feature names, but GradientBoostingRegressor was fitted with feature names\n",
      "X does not have valid feature names, but GradientBoostingRegressor was fitted with feature names\n",
      "X does not have valid feature names, but SVR was fitted with feature names\n",
      "X does not have valid feature names, but SVR was fitted with feature names\n",
      "X does not have valid feature names, but GradientBoostingRegressor was fitted with feature names\n",
      "X does not have valid feature names, but GradientBoostingRegressor was fitted with feature names\n",
      "X does not have valid feature names, but SVR was fitted with feature names\n",
      "X does not have valid feature names, but SVR was fitted with feature names\n",
      "X does not have valid feature names, but GradientBoostingRegressor was fitted with feature names\n",
      "X does not have valid feature names, but GradientBoostingRegressor was fitted with feature names\n",
      "X does not have valid feature names, but SVR was fitted with feature names\n",
      "X does not have valid feature names, but SVR was fitted with feature names\n"
     ]
    },
    {
     "name": "stderr",
     "output_type": "stream",
     "text": [
      "X does not have valid feature names, but GradientBoostingRegressor was fitted with feature names\n",
      "X does not have valid feature names, but GradientBoostingRegressor was fitted with feature names\n",
      "X does not have valid feature names, but SVR was fitted with feature names\n",
      "X does not have valid feature names, but SVR was fitted with feature names\n",
      "X does not have valid feature names, but GradientBoostingRegressor was fitted with feature names\n",
      "X does not have valid feature names, but GradientBoostingRegressor was fitted with feature names\n",
      "X does not have valid feature names, but SVR was fitted with feature names\n",
      "X does not have valid feature names, but SVR was fitted with feature names\n",
      "X does not have valid feature names, but GradientBoostingRegressor was fitted with feature names\n",
      "X does not have valid feature names, but GradientBoostingRegressor was fitted with feature names\n",
      "X does not have valid feature names, but SVR was fitted with feature names\n",
      "X does not have valid feature names, but SVR was fitted with feature names\n",
      "X does not have valid feature names, but GradientBoostingRegressor was fitted with feature names\n",
      "X does not have valid feature names, but GradientBoostingRegressor was fitted with feature names\n",
      "X does not have valid feature names, but SVR was fitted with feature names\n",
      "X does not have valid feature names, but SVR was fitted with feature names\n"
     ]
    }
   ],
   "source": [
    "N = 100\n",
    "nb_of_features = len(X_test.columns)\n",
    "\n",
    "contributions_xgboost = np.zeros((N, nb_of_features))\n",
    "contributions_svm = np.zeros((N, nb_of_features))\n",
    "\n",
    "for i in range(0, N):\n",
    "    for explainer, contributions in zip([explainer_xgboost, explainer_svm], \\\n",
    "                                        [contributions_xgboost, contributions_svm]):\n",
    "        explain = explainer.predict_parts(X_test.iloc[0:1], type=\"unbiased_kernel_shap\",\n",
    "                                          n_samples = 500, label=f\"sample id: 0\")\n",
    "        contr = explain.result['contribution'].to_numpy()\n",
    "        contributions[i, :] = contr"
   ]
  },
  {
   "cell_type": "code",
   "execution_count": 47,
   "id": "537a8036",
   "metadata": {},
   "outputs": [],
   "source": [
    "avg_xgboost = np.mean(contributions_xgboost, axis = 0)\n",
    "std_xgboost = np.std(contributions_xgboost, axis = 0)\n",
    "avg_svm = np.mean(contributions_svm, axis = 0)\n",
    "std_svm = np.std(contributions_svm, axis = 0)"
   ]
  },
  {
   "cell_type": "code",
   "execution_count": 48,
   "id": "53d95971",
   "metadata": {},
   "outputs": [
    {
     "name": "stdout",
     "output_type": "stream",
     "text": [
      "[  3239.98067139    141.8940112  -60258.60282015  -5082.10055362\n",
      "  -2557.82955755 -78300.42585429 -11201.43199118  10840.56257249\n",
      " -46056.81135389]\n",
      "[19232.06534342 16103.88628907 27377.2221478  17467.86659807\n",
      " 19527.67361082 33465.18843566 20897.70113738 19446.25971741\n",
      " 20525.98880127]\n"
     ]
    }
   ],
   "source": [
    "print(avg_xgboost)\n",
    "print(std_xgboost)"
   ]
  },
  {
   "cell_type": "code",
   "execution_count": 49,
   "id": "1b862a61",
   "metadata": {},
   "outputs": [
    {
     "name": "stdout",
     "output_type": "stream",
     "text": [
      "[  1705.62545722   1716.81433069 -85712.58527147   2397.78460234\n",
      "   -166.88558784  -2056.8548628  -59097.90533122   5872.18060911\n",
      " -28966.67024678]\n",
      "[12045.86253757 11373.00102613 29906.21897534 12212.7995395\n",
      " 13778.13301255 13101.89118456 14656.81515204 12839.93870945\n",
      " 16989.35562875]\n"
     ]
    }
   ],
   "source": [
    "print(avg_svm)\n",
    "print(std_svm)"
   ]
  },
  {
   "cell_type": "code",
   "execution_count": 66,
   "id": "71652d22",
   "metadata": {},
   "outputs": [
    {
     "name": "stderr",
     "output_type": "stream",
     "text": [
      "Exact explainer: 2it [00:13, 13.25s/it]                                         \n"
     ]
    }
   ],
   "source": [
    "exact_explainer_svm = shap.explainers.Exact(svm.predict, X_train)\n",
    "exact_explainer_xgboost = shap.explainers.Exact(xgboost.predict, X_train)\n",
    "\n",
    "exact_shap_result = []\n",
    "for explainer in [exact_explainer_svm, exact_explainer_xgboost]:\n",
    "\n",
    "    shap_values = explainer(X_test.iloc[0:1])\n",
    "\n",
    "    exact_shap_result.append(shap_values.values)"
   ]
  },
  {
   "cell_type": "code",
   "execution_count": 71,
   "id": "2951ba8f",
   "metadata": {},
   "outputs": [
    {
     "data": {
      "text/plain": [
       "array([[   393.76639509,     84.59555039, -79509.80981813,\n",
       "           521.1875511 ,   -594.33166615,  -2367.61943529,\n",
       "        -59133.5675569 ,   6778.20102502, -26083.84033299]])"
      ]
     },
     "execution_count": 71,
     "metadata": {},
     "output_type": "execute_result"
    }
   ],
   "source": [
    "exact_shap_result[0]"
   ]
  },
  {
   "cell_type": "code",
   "execution_count": 72,
   "id": "b6258f7a",
   "metadata": {},
   "outputs": [
    {
     "data": {
      "text/plain": [
       "-159911.4182878504"
      ]
     },
     "execution_count": 72,
     "metadata": {},
     "output_type": "execute_result"
    }
   ],
   "source": [
    "np.sum(exact_shap_result[0])"
   ]
  },
  {
   "cell_type": "code",
   "execution_count": 68,
   "id": "7e82004a",
   "metadata": {},
   "outputs": [
    {
     "data": {
      "text/plain": [
       "array([336183.52288506])"
      ]
     },
     "execution_count": 68,
     "metadata": {},
     "output_type": "execute_result"
    }
   ],
   "source": [
    "svm.predict(X_test.iloc[0:1])"
   ]
  },
  {
   "cell_type": "code",
   "execution_count": 54,
   "id": "8b2b821b",
   "metadata": {},
   "outputs": [
    {
     "data": {
      "text/plain": [
       "-0.09746754622057059"
      ]
     },
     "execution_count": 54,
     "metadata": {},
     "output_type": "execute_result"
    }
   ],
   "source": [
    "np.sum(abs(exact_shap_result[0] - avg_svm)) / np.sum(exact_shap_result[0])"
   ]
  },
  {
   "cell_type": "code",
   "execution_count": 53,
   "id": "5c2b0302",
   "metadata": {},
   "outputs": [
    {
     "data": {
      "text/plain": [
       "array([[0.6674807 , 1.09839402, 0.10429165, 0.46353489, 1.30364855,\n",
       "        0.0866466 , 0.21073062, 0.25530479, 0.01341319]])"
      ]
     },
     "execution_count": 53,
     "metadata": {},
     "output_type": "execute_result"
    }
   ],
   "source": [
    "abs((exact_shap_result[1] - avg_xgboost) / exact_shap_result[1])"
   ]
  }
 ],
 "metadata": {
  "kernelspec": {
   "display_name": "myDalex",
   "language": "python",
   "name": "mydalex"
  },
  "language_info": {
   "codemirror_mode": {
    "name": "ipython",
    "version": 3
   },
   "file_extension": ".py",
   "mimetype": "text/x-python",
   "name": "python",
   "nbconvert_exporter": "python",
   "pygments_lexer": "ipython3",
   "version": "3.7.16"
  }
 },
 "nbformat": 4,
 "nbformat_minor": 5
}
